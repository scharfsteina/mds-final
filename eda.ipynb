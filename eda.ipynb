{
 "cells": [
  {
   "cell_type": "code",
   "execution_count": 3,
   "metadata": {},
   "outputs": [],
   "source": [
    "import numpy as np\n",
    "import pandas as pd\n",
    "import matplotlib.pyplot as plt"
   ]
  },
  {
   "cell_type": "code",
   "execution_count": 4,
   "metadata": {},
   "outputs": [],
   "source": [
    "mens = pd.read_csv(\"data/mens_df_prod.csv\")\n",
    "womens = pd.read_csv(\"data/womens_df_prod.csv\")"
   ]
  },
  {
   "cell_type": "code",
   "execution_count": 23,
   "metadata": {},
   "outputs": [
    {
     "name": "stdout",
     "output_type": "stream",
     "text": [
      "seed_home\n",
      "seed_away\n",
      "avg_game_length_set2\n",
      "set2_length\n",
      "avg_game_length_set3\n",
      "set3_length\n",
      "avg_game_length_set4\n",
      "set4_length\n",
      "avg_game_length_set5\n",
      "set5_length\n",
      "set4_diff\n",
      "set4_games\n",
      "set5_diff\n",
      "set5_games\n"
     ]
    }
   ],
   "source": [
    "for col in mens.columns:\n",
    "    if any(mens[col].isna()):\n",
    "        print(col)"
   ]
  },
  {
   "cell_type": "code",
   "execution_count": 5,
   "metadata": {},
   "outputs": [
    {
     "name": "stdout",
     "output_type": "stream",
     "text": [
      "seed_home\n",
      "games_won_home\n",
      "max_games_in_a_row_home\n",
      "tiebreaks_won_home\n",
      "seed_away\n",
      "games_won_away\n",
      "max_games_in_a_row_away\n",
      "tiebreaks_won_away\n",
      "avg_game_length_set2\n",
      "set2_length\n",
      "avg_game_length_set3\n",
      "set3_length\n",
      "set3_diff\n",
      "set3_games\n",
      "tiebreaks_won\n",
      "games_won\n",
      "max_games_in_a_row\n"
     ]
    }
   ],
   "source": [
    "for col in womens.columns:\n",
    "    if any(womens[col].isna()):\n",
    "        print(col)"
   ]
  },
  {
   "cell_type": "code",
   "execution_count": 11,
   "metadata": {},
   "outputs": [
    {
     "name": "stdout",
     "output_type": "stream",
     "text": [
      "['2023-06-26' '2023-05-22' '2024-01-07' '2023-08-22']\n",
      "['2023-06-26' '2023-05-22' '2024-01-07' '2023-08-22']\n"
     ]
    }
   ],
   "source": [
    "print(pd.unique(mens['date']))"
   ]
  },
  {
   "cell_type": "code",
   "execution_count": 26,
   "metadata": {},
   "outputs": [
    {
     "data": {
      "text/plain": [
       "(array([ 12.,  62., 143., 127.,  83.,  51.,   7.,   7.,   2.,   1.]),\n",
       " array([5.19230769, 5.52069597, 5.84908425, 6.17747253, 6.50586081,\n",
       "        6.83424908, 7.16263736, 7.49102564, 7.81941392, 8.1478022 ,\n",
       "        8.47619048]),\n",
       " <BarContainer object of 10 artists>)"
      ]
     },
     "execution_count": 26,
     "metadata": {},
     "output_type": "execute_result"
    },
    {
     "data": {
      "image/png": "[encoded data removed]",
      "text/plain": [
       "<Figure size 640x480 with 1 Axes>"
      ]
     },
     "metadata": {},
     "output_type": "display_data"
    }
   ],
   "source": [
    "plt.hist(mens[\"avg_points_per_game\"])"
   ]
  },
  {
   "cell_type": "code",
   "execution_count": 33,
   "metadata": {},
   "outputs": [
    {
     "data": {
      "text/html": [
       "<div>\n",
       "<style scoped>\n",
       "    .dataframe tbody tr th:only-of-type {\n",
       "        vertical-align: middle;\n",
       "    }\n",
       "\n",
       "    .dataframe tbody tr th {\n",
       "        vertical-align: top;\n",
       "    }\n",
       "\n",
       "    .dataframe thead th {\n",
       "        text-align: right;\n",
       "    }\n",
       "</style>\n",
       "<table border=\"1\" class=\"dataframe\">\n",
       "  <thead>\n",
       "    <tr style=\"text-align: right;\">\n",
       "      <th></th>\n",
       "      <th>event_id</th>\n",
       "      <th>player_id_home</th>\n",
       "      <th>name_home</th>\n",
       "      <th>seed_home</th>\n",
       "      <th>aces_home</th>\n",
       "      <th>backhand_errors_home</th>\n",
       "      <th>backhand_unforced_errors_home</th>\n",
       "      <th>backhand_winners_home</th>\n",
       "      <th>breakpoints_won_home</th>\n",
       "      <th>double_faults_home</th>\n",
       "      <th>...</th>\n",
       "      <th>set1_diff</th>\n",
       "      <th>set1_games</th>\n",
       "      <th>set2_diff</th>\n",
       "      <th>set2_games</th>\n",
       "      <th>set3_diff</th>\n",
       "      <th>set3_games</th>\n",
       "      <th>set4_diff</th>\n",
       "      <th>set4_games</th>\n",
       "      <th>set5_diff</th>\n",
       "      <th>set5_games</th>\n",
       "    </tr>\n",
       "  </thead>\n",
       "  <tbody>\n",
       "    <tr>\n",
       "      <th>33</th>\n",
       "      <td>sr:sport_event:42024011</td>\n",
       "      <td>sr:competitor:58221</td>\n",
       "      <td>O'Connell, Christopher</td>\n",
       "      <td>NaN</td>\n",
       "      <td>10</td>\n",
       "      <td>26</td>\n",
       "      <td>12</td>\n",
       "      <td>7</td>\n",
       "      <td>5</td>\n",
       "      <td>4</td>\n",
       "      <td>...</td>\n",
       "      <td>2</td>\n",
       "      <td>12</td>\n",
       "      <td>2</td>\n",
       "      <td>10</td>\n",
       "      <td>-2</td>\n",
       "      <td>10</td>\n",
       "      <td>2.0</td>\n",
       "      <td>10.0</td>\n",
       "      <td>NaN</td>\n",
       "      <td>NaN</td>\n",
       "    </tr>\n",
       "    <tr>\n",
       "      <th>47</th>\n",
       "      <td>sr:sport_event:42024045</td>\n",
       "      <td>sr:competitor:496346</td>\n",
       "      <td>Stricker, Dominic</td>\n",
       "      <td>NaN</td>\n",
       "      <td>16</td>\n",
       "      <td>26</td>\n",
       "      <td>10</td>\n",
       "      <td>15</td>\n",
       "      <td>6</td>\n",
       "      <td>6</td>\n",
       "      <td>...</td>\n",
       "      <td>-3</td>\n",
       "      <td>9</td>\n",
       "      <td>3</td>\n",
       "      <td>9</td>\n",
       "      <td>4</td>\n",
       "      <td>8</td>\n",
       "      <td>-2.0</td>\n",
       "      <td>10.0</td>\n",
       "      <td>2.0</td>\n",
       "      <td>12.0</td>\n",
       "    </tr>\n",
       "    <tr>\n",
       "      <th>72</th>\n",
       "      <td>sr:sport_event:42001155</td>\n",
       "      <td>sr:competitor:117916</td>\n",
       "      <td>Shapovalov, Denis</td>\n",
       "      <td>26.0</td>\n",
       "      <td>18</td>\n",
       "      <td>19</td>\n",
       "      <td>10</td>\n",
       "      <td>3</td>\n",
       "      <td>2</td>\n",
       "      <td>3</td>\n",
       "      <td>...</td>\n",
       "      <td>3</td>\n",
       "      <td>9</td>\n",
       "      <td>2</td>\n",
       "      <td>10</td>\n",
       "      <td>1</td>\n",
       "      <td>13</td>\n",
       "      <td>NaN</td>\n",
       "      <td>NaN</td>\n",
       "      <td>NaN</td>\n",
       "      <td>NaN</td>\n",
       "    </tr>\n",
       "  </tbody>\n",
       "</table>\n",
       "<p>3 rows × 111 columns</p>\n",
       "</div>"
      ],
      "text/plain": [
       "                   event_id        player_id_home               name_home  \\\n",
       "33  sr:sport_event:42024011   sr:competitor:58221  O'Connell, Christopher   \n",
       "47  sr:sport_event:42024045  sr:competitor:496346       Stricker, Dominic   \n",
       "72  sr:sport_event:42001155  sr:competitor:117916       Shapovalov, Denis   \n",
       "\n",
       "    seed_home  aces_home  backhand_errors_home  backhand_unforced_errors_home  \\\n",
       "33        NaN         10                    26                             12   \n",
       "47        NaN         16                    26                             10   \n",
       "72       26.0         18                    19                             10   \n",
       "\n",
       "    backhand_winners_home  breakpoints_won_home  double_faults_home  ...  \\\n",
       "33                      7                     5                   4  ...   \n",
       "47                     15                     6                   6  ...   \n",
       "72                      3                     2                   3  ...   \n",
       "\n",
       "    set1_diff  set1_games  set2_diff  set2_games  set3_diff  set3_games  \\\n",
       "33          2          12          2          10         -2          10   \n",
       "47         -3           9          3           9          4           8   \n",
       "72          3           9          2          10          1          13   \n",
       "\n",
       "    set4_diff  set4_games  set5_diff  set5_games  \n",
       "33        2.0        10.0        NaN         NaN  \n",
       "47       -2.0        10.0        2.0        12.0  \n",
       "72        NaN         NaN        NaN         NaN  \n",
       "\n",
       "[3 rows x 111 columns]"
      ]
     },
     "execution_count": 33,
     "metadata": {},
     "output_type": "execute_result"
    }
   ],
   "source": [
    "mens[mens[\"avg_set_length\"]>90]"
   ]
  },
  {
   "cell_type": "code",
   "execution_count": 14,
   "metadata": {},
   "outputs": [],
   "source": [
    "diff_cols = [\"set\"+str(i)+\"_diff\" for i in range(1,6)]\n",
    "mens['set_diffs'] = mens[diff_cols].apply(lambda row: np.nanmean(row), axis=1)"
   ]
  },
  {
   "cell_type": "code",
   "execution_count": 20,
   "metadata": {},
   "outputs": [
    {
     "data": {
      "text/plain": [
       "<matplotlib.collections.PathCollection at 0x11cd39b10>"
      ]
     },
     "execution_count": 20,
     "metadata": {},
     "output_type": "execute_result"
    },
    {
     "data": {
      "image/png": "[encoded data removed]",
      "text/plain": [
       "<Figure size 640x480 with 1 Axes>"
      ]
     },
     "metadata": {},
     "output_type": "display_data"
    }
   ],
   "source": [
    "plt.scatter(mens['avg_set_length'], mens[\"avg_points_per_game\"])"
   ]
  }
 ],
 "metadata": {
  "kernelspec": {
   "display_name": "Python 3",
   "language": "python",
   "name": "python3"
  },
  "language_info": {
   "codemirror_mode": {
    "name": "ipython",
    "version": 3
   },
   "file_extension": ".py",
   "mimetype": "text/x-python",
   "name": "python",
   "nbconvert_exporter": "python",
   "pygments_lexer": "ipython3",
   "version": "3.11.6"
  },
  "orig_nbformat": 4
 },
 "nbformat": 4,
 "nbformat_minor": 2
}
