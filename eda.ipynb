{
 "cells": [
  {
   "cell_type": "code",
   "execution_count": 10,
   "metadata": {},
   "outputs": [],
   "source": [
    "import numpy as np\n",
    "import pandas as pd\n",
    "import matplotlib.pyplot as plt"
   ]
  },
  {
   "cell_type": "code",
   "execution_count": 2,
   "metadata": {},
   "outputs": [],
   "source": [
    "mens = pd.read_csv(\"data/mens_df.csv\")"
   ]
  },
  {
   "cell_type": "code",
   "execution_count": 4,
   "metadata": {},
   "outputs": [
    {
     "name": "stdout",
     "output_type": "stream",
     "text": [
      "seed_home\n",
      "seed_away\n",
      "avg_set_length\n",
      "set4_diff\n",
      "set4_games\n",
      "set5_diff\n",
      "set5_games\n"
     ]
    }
   ],
   "source": [
    "for col in mens.columns:\n",
    "    if any(mens[col].isna()):\n",
    "        print(col)"
   ]
  },
  {
   "cell_type": "code",
   "execution_count": 21,
   "metadata": {},
   "outputs": [
    {
     "data": {
      "text/html": [
       "<div>\n",
       "<style scoped>\n",
       "    .dataframe tbody tr th:only-of-type {\n",
       "        vertical-align: middle;\n",
       "    }\n",
       "\n",
       "    .dataframe tbody tr th {\n",
       "        vertical-align: top;\n",
       "    }\n",
       "\n",
       "    .dataframe thead th {\n",
       "        text-align: right;\n",
       "    }\n",
       "</style>\n",
       "<table border=\"1\" class=\"dataframe\">\n",
       "  <thead>\n",
       "    <tr style=\"text-align: right;\">\n",
       "      <th></th>\n",
       "      <th>event_id</th>\n",
       "      <th>player_id_home</th>\n",
       "      <th>name_home</th>\n",
       "      <th>seed_home</th>\n",
       "      <th>aces_home</th>\n",
       "      <th>backhand_errors_home</th>\n",
       "      <th>backhand_unforced_errors_home</th>\n",
       "      <th>backhand_winners_home</th>\n",
       "      <th>breakpoints_won_home</th>\n",
       "      <th>double_faults_home</th>\n",
       "      <th>...</th>\n",
       "      <th>set1_games</th>\n",
       "      <th>set2_diff</th>\n",
       "      <th>set2_games</th>\n",
       "      <th>set3_diff</th>\n",
       "      <th>set3_games</th>\n",
       "      <th>set4_diff</th>\n",
       "      <th>set4_games</th>\n",
       "      <th>set5_diff</th>\n",
       "      <th>set5_games</th>\n",
       "      <th>set_diffs</th>\n",
       "    </tr>\n",
       "  </thead>\n",
       "  <tbody>\n",
       "    <tr>\n",
       "      <th>0</th>\n",
       "      <td>sr:sport_event:42023937</td>\n",
       "      <td>sr:competitor:87690</td>\n",
       "      <td>Thompson, Jordan</td>\n",
       "      <td>NaN</td>\n",
       "      <td>16</td>\n",
       "      <td>29</td>\n",
       "      <td>13</td>\n",
       "      <td>7</td>\n",
       "      <td>3</td>\n",
       "      <td>2</td>\n",
       "      <td>...</td>\n",
       "      <td>8</td>\n",
       "      <td>-4</td>\n",
       "      <td>8</td>\n",
       "      <td>2</td>\n",
       "      <td>10</td>\n",
       "      <td>1.0</td>\n",
       "      <td>13.0</td>\n",
       "      <td>3.0</td>\n",
       "      <td>9.0</td>\n",
       "      <td>-0.400000</td>\n",
       "    </tr>\n",
       "    <tr>\n",
       "      <th>1</th>\n",
       "      <td>sr:sport_event:42023949</td>\n",
       "      <td>sr:competitor:359602</td>\n",
       "      <td>Musetti, Lorenzo</td>\n",
       "      <td>14.0</td>\n",
       "      <td>5</td>\n",
       "      <td>13</td>\n",
       "      <td>11</td>\n",
       "      <td>10</td>\n",
       "      <td>5</td>\n",
       "      <td>4</td>\n",
       "      <td>...</td>\n",
       "      <td>9</td>\n",
       "      <td>5</td>\n",
       "      <td>7</td>\n",
       "      <td>2</td>\n",
       "      <td>12</td>\n",
       "      <td>NaN</td>\n",
       "      <td>NaN</td>\n",
       "      <td>NaN</td>\n",
       "      <td>NaN</td>\n",
       "      <td>3.333333</td>\n",
       "    </tr>\n",
       "    <tr>\n",
       "      <th>2</th>\n",
       "      <td>sr:sport_event:42023961</td>\n",
       "      <td>sr:competitor:257721</td>\n",
       "      <td>Baez, Sebastian</td>\n",
       "      <td>NaN</td>\n",
       "      <td>3</td>\n",
       "      <td>18</td>\n",
       "      <td>24</td>\n",
       "      <td>13</td>\n",
       "      <td>2</td>\n",
       "      <td>7</td>\n",
       "      <td>...</td>\n",
       "      <td>13</td>\n",
       "      <td>3</td>\n",
       "      <td>9</td>\n",
       "      <td>-3</td>\n",
       "      <td>9</td>\n",
       "      <td>-1.0</td>\n",
       "      <td>13.0</td>\n",
       "      <td>NaN</td>\n",
       "      <td>NaN</td>\n",
       "      <td>-0.500000</td>\n",
       "    </tr>\n",
       "    <tr>\n",
       "      <th>3</th>\n",
       "      <td>sr:sport_event:42023963</td>\n",
       "      <td>sr:competitor:658475</td>\n",
       "      <td>van Assche, Luca</td>\n",
       "      <td>NaN</td>\n",
       "      <td>6</td>\n",
       "      <td>21</td>\n",
       "      <td>15</td>\n",
       "      <td>4</td>\n",
       "      <td>2</td>\n",
       "      <td>6</td>\n",
       "      <td>...</td>\n",
       "      <td>13</td>\n",
       "      <td>-2</td>\n",
       "      <td>10</td>\n",
       "      <td>-4</td>\n",
       "      <td>8</td>\n",
       "      <td>-2.0</td>\n",
       "      <td>10.0</td>\n",
       "      <td>NaN</td>\n",
       "      <td>NaN</td>\n",
       "      <td>-1.750000</td>\n",
       "    </tr>\n",
       "    <tr>\n",
       "      <th>4</th>\n",
       "      <td>sr:sport_event:42023965</td>\n",
       "      <td>sr:competitor:106755</td>\n",
       "      <td>Rublev, Andrey</td>\n",
       "      <td>7.0</td>\n",
       "      <td>6</td>\n",
       "      <td>13</td>\n",
       "      <td>11</td>\n",
       "      <td>4</td>\n",
       "      <td>5</td>\n",
       "      <td>1</td>\n",
       "      <td>...</td>\n",
       "      <td>9</td>\n",
       "      <td>2</td>\n",
       "      <td>12</td>\n",
       "      <td>2</td>\n",
       "      <td>10</td>\n",
       "      <td>NaN</td>\n",
       "      <td>NaN</td>\n",
       "      <td>NaN</td>\n",
       "      <td>NaN</td>\n",
       "      <td>2.333333</td>\n",
       "    </tr>\n",
       "  </tbody>\n",
       "</table>\n",
       "<p>5 rows × 101 columns</p>\n",
       "</div>"
      ],
      "text/plain": [
       "                  event_id        player_id_home         name_home  seed_home  \\\n",
       "0  sr:sport_event:42023937   sr:competitor:87690  Thompson, Jordan        NaN   \n",
       "1  sr:sport_event:42023949  sr:competitor:359602  Musetti, Lorenzo       14.0   \n",
       "2  sr:sport_event:42023961  sr:competitor:257721   Baez, Sebastian        NaN   \n",
       "3  sr:sport_event:42023963  sr:competitor:658475  van Assche, Luca        NaN   \n",
       "4  sr:sport_event:42023965  sr:competitor:106755    Rublev, Andrey        7.0   \n",
       "\n",
       "   aces_home  backhand_errors_home  backhand_unforced_errors_home  \\\n",
       "0         16                    29                             13   \n",
       "1          5                    13                             11   \n",
       "2          3                    18                             24   \n",
       "3          6                    21                             15   \n",
       "4          6                    13                             11   \n",
       "\n",
       "   backhand_winners_home  breakpoints_won_home  double_faults_home  ...  \\\n",
       "0                      7                     3                   2  ...   \n",
       "1                     10                     5                   4  ...   \n",
       "2                     13                     2                   7  ...   \n",
       "3                      4                     2                   6  ...   \n",
       "4                      4                     5                   1  ...   \n",
       "\n",
       "   set1_games  set2_diff  set2_games  set3_diff  set3_games  set4_diff  \\\n",
       "0           8         -4           8          2          10        1.0   \n",
       "1           9          5           7          2          12        NaN   \n",
       "2          13          3           9         -3           9       -1.0   \n",
       "3          13         -2          10         -4           8       -2.0   \n",
       "4           9          2          12          2          10        NaN   \n",
       "\n",
       "   set4_games  set5_diff  set5_games  set_diffs  \n",
       "0        13.0        3.0         9.0  -0.400000  \n",
       "1         NaN        NaN         NaN   3.333333  \n",
       "2        13.0        NaN         NaN  -0.500000  \n",
       "3        10.0        NaN         NaN  -1.750000  \n",
       "4         NaN        NaN         NaN   2.333333  \n",
       "\n",
       "[5 rows x 101 columns]"
      ]
     },
     "execution_count": 21,
     "metadata": {},
     "output_type": "execute_result"
    }
   ],
   "source": [
    "mens.head()"
   ]
  },
  {
   "cell_type": "code",
   "execution_count": 11,
   "metadata": {},
   "outputs": [
    {
     "data": {
      "text/plain": [
       "(array([  8.,  39., 101., 142.,  82.,  70.,  33.,   6.,   4.,   2.]),\n",
       " array([5.19230769, 5.47664835, 5.76098901, 6.04532967, 6.32967033,\n",
       "        6.61401099, 6.89835165, 7.18269231, 7.46703297, 7.75137363,\n",
       "        8.03571429]),\n",
       " <BarContainer object of 10 artists>)"
      ]
     },
     "execution_count": 11,
     "metadata": {},
     "output_type": "execute_result"
    },
    {
     "data": {
      "image/png": "[encoded data removed]",
      "text/plain": [
       "<Figure size 640x480 with 1 Axes>"
      ]
     },
     "metadata": {},
     "output_type": "display_data"
    }
   ],
   "source": [
    "plt.hist(mens[\"avg_points_per_game\"])"
   ]
  },
  {
   "cell_type": "code",
   "execution_count": 12,
   "metadata": {},
   "outputs": [
    {
     "data": {
      "text/plain": [
       "(array([ 66., 211., 129.,  36.,  17.,  14.,   7.,   1.,   2.,   1.]),\n",
       " array([ 23.13333333,  35.335     ,  47.53666667,  59.73833333,\n",
       "         71.94      ,  84.14166667,  96.34333333, 108.545     ,\n",
       "        120.74666667, 132.94833333, 145.15      ]),\n",
       " <BarContainer object of 10 artists>)"
      ]
     },
     "execution_count": 12,
     "metadata": {},
     "output_type": "execute_result"
    },
    {
     "data": {
      "image/png": "[encoded data removed]",
      "text/plain": [
       "<Figure size 640x480 with 1 Axes>"
      ]
     },
     "metadata": {},
     "output_type": "display_data"
    }
   ],
   "source": [
    "plt.hist(mens[\"avg_set_length\"])"
   ]
  },
  {
   "cell_type": "code",
   "execution_count": 14,
   "metadata": {},
   "outputs": [],
   "source": [
    "diff_cols = [\"set\"+str(i)+\"_diff\" for i in range(1,6)]\n",
    "mens['set_diffs'] = mens[diff_cols].apply(lambda row: np.nanmean(row), axis=1)"
   ]
  },
  {
   "cell_type": "code",
   "execution_count": 20,
   "metadata": {},
   "outputs": [
    {
     "data": {
      "text/plain": [
       "<matplotlib.collections.PathCollection at 0x11cd39b10>"
      ]
     },
     "execution_count": 20,
     "metadata": {},
     "output_type": "execute_result"
    },
    {
     "data": {
      "image/png": "[encoded data removed]",
      "text/plain": [
       "<Figure size 640x480 with 1 Axes>"
      ]
     },
     "metadata": {},
     "output_type": "display_data"
    }
   ],
   "source": [
    "plt.scatter(mens['avg_set_length'], mens[\"avg_points_per_game\"])"
   ]
  }
 ],
 "metadata": {
  "kernelspec": {
   "display_name": "Python 3",
   "language": "python",
   "name": "python3"
  },
  "language_info": {
   "codemirror_mode": {
    "name": "ipython",
    "version": 3
   },
   "file_extension": ".py",
   "mimetype": "text/x-python",
   "name": "python",
   "nbconvert_exporter": "python",
   "pygments_lexer": "ipython3",
   "version": "3.11.6"
  },
  "orig_nbformat": 4
 },
 "nbformat": 4,
 "nbformat_minor": 2
}
