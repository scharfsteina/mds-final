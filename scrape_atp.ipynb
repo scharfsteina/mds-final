{
 "cells": [
  {
   "cell_type": "code",
   "execution_count": 38,
   "metadata": {},
   "outputs": [],
   "source": [
    "from bs4 import BeautifulSoup\n",
    "import requests as rq\n",
    "from datetime import datetime, timedelta\n",
    "import pandas as pd"
   ]
  },
  {
   "cell_type": "code",
   "execution_count": 12,
   "metadata": {},
   "outputs": [
    {
     "name": "stdout",
     "output_type": "stream",
     "text": [
      "['2023-01-02', '2023-01-09', '2023-01-16', '2023-01-23', '2023-01-30', '2023-02-06', '2023-02-13', '2023-02-20', '2023-02-27', '2023-03-06', '2023-03-13', '2023-03-20', '2023-03-27', '2023-04-03', '2023-04-10', '2023-04-17', '2023-04-24', '2023-05-01', '2023-05-08', '2023-05-15', '2023-05-22', '2023-05-29', '2023-06-05', '2023-06-12', '2023-06-19', '2023-06-26', '2023-07-03', '2023-07-10', '2023-07-17', '2023-07-24', '2023-07-31', '2023-08-07', '2023-08-14', '2023-08-21', '2023-08-28', '2023-09-04', '2023-09-11', '2023-09-18', '2023-09-25', '2023-10-02', '2023-10-09', '2023-10-16', '2023-10-23', '2023-10-30', '2023-11-06', '2023-11-13', '2023-11-20', '2023-11-27', '2023-12-04', '2023-12-11', '2023-12-18', '2023-12-25', '2024-01-01', '2024-01-08', '2024-01-15', '2024-01-22', '2024-01-29']\n"
     ]
    }
   ],
   "source": [
    "def get_first_day_of_week(year, week_number):\n",
    "    # Find the first day of the week using ISO week date standard\n",
    "    # (Monday is the first day of the week, and week 1 is the week that contains the first Thursday of the year)\n",
    "    first_day = datetime.strptime(f'{year}-W{week_number}-1', \"%Y-W%W-%w\")\n",
    "    return first_day\n",
    "\n",
    "# Get the current date\n",
    "current_date = datetime.now()\n",
    "\n",
    "# Loop through each week in 2023 and up to the current day in 2024\n",
    "start_date = datetime(2023, 1, 2)  # Start from the beginning of 2023\n",
    "current_week = current_date.isocalendar()[1]  # Get the current ISO week number\n",
    "\n",
    "weeks = []\n",
    "while start_date.year < 2025:  # Loop until the end of 2024\n",
    "    week_number = start_date.isocalendar()[1]\n",
    "    \n",
    "    fdow = get_first_day_of_week(start_date.year, week_number).strftime('%Y-%m-%d')\n",
    "    weeks.append(fdow)\n",
    "    \n",
    "    # Move to the next week\n",
    "    start_date += timedelta(days=7)\n",
    "\n",
    "    # Break the loop if we reach the current week in 2024\n",
    "    if start_date.year == current_date.year and week_number == current_week:\n",
    "        break\n",
    "\n",
    "print(weeks)"
   ]
  },
  {
   "cell_type": "code",
   "execution_count": 59,
   "metadata": {},
   "outputs": [
    {
     "name": "stdout",
     "output_type": "stream",
     "text": [
      "2023-01-02 ATP rankings extracted\n",
      "2023-01-09 ATP rankings extracted\n",
      "2023-01-16 ATP rankings extracted\n",
      "2023-01-23 ATP rankings extracted\n",
      "2023-01-30 ATP rankings extracted\n",
      "2023-02-06 ATP rankings extracted\n",
      "2023-02-13 ATP rankings extracted\n",
      "2023-02-20 ATP rankings extracted\n",
      "2023-02-27 ATP rankings extracted\n",
      "2023-03-06 ATP rankings extracted\n",
      "2023-03-13 ATP rankings extracted\n",
      "2023-03-20 ATP rankings extracted\n",
      "2023-03-27 ATP rankings extracted\n",
      "2023-04-03 ATP rankings extracted\n",
      "2023-04-10 ATP rankings extracted\n",
      "2023-04-17 ATP rankings extracted\n",
      "2023-04-24 ATP rankings extracted\n",
      "2023-05-01 ATP rankings extracted\n",
      "2023-05-08 ATP rankings extracted\n",
      "2023-05-15 ATP rankings extracted\n",
      "2023-05-22 ATP rankings extracted\n",
      "2023-05-29 ATP rankings extracted\n",
      "2023-06-05 ATP rankings extracted\n",
      "2023-06-12 ATP rankings extracted\n",
      "2023-06-19 ATP rankings extracted\n",
      "2023-06-26 ATP rankings extracted\n",
      "2023-07-03 ATP rankings extracted\n",
      "2023-07-10 ATP rankings extracted\n",
      "2023-07-17 ATP rankings extracted\n",
      "2023-07-24 ATP rankings extracted\n",
      "2023-07-31 ATP rankings extracted\n",
      "2023-08-07 ATP rankings extracted\n",
      "2023-08-14 ATP rankings extracted\n",
      "2023-08-21 ATP rankings extracted\n",
      "2023-08-28 ATP rankings extracted\n",
      "2023-09-04 ATP rankings extracted\n",
      "2023-09-11 ATP rankings extracted\n",
      "2023-09-18 ATP rankings extracted\n",
      "2023-09-25 ATP rankings extracted\n",
      "2023-10-02 ATP rankings extracted\n",
      "2023-10-09 ATP rankings extracted\n",
      "2023-10-16 ATP rankings extracted\n",
      "2023-10-23 ATP rankings extracted\n",
      "2023-10-30 ATP rankings extracted\n",
      "2023-11-06 ATP rankings extracted\n",
      "2023-11-13 ATP rankings extracted\n",
      "2023-11-20 ATP rankings extracted\n",
      "2023-11-27 ATP rankings extracted\n",
      "2023-12-04 ATP rankings extracted\n",
      "2023-12-11 ATP rankings extracted\n",
      "2023-12-18 ATP rankings extracted\n",
      "2023-12-25 ATP rankings extracted\n",
      "2024-01-01 ATP rankings extracted\n",
      "2024-01-08 ATP rankings extracted\n",
      "2024-01-15 ATP rankings extracted\n",
      "2024-01-22 ATP rankings extracted\n",
      "2024-01-29 ATP rankings extracted\n"
     ]
    }
   ],
   "source": [
    "atp_ranks = []\n",
    "for week in weeks:\n",
    "    url = \"https://www.atptour.com/en/rankings/singles?\"+week \n",
    "    page = rq.get(url)\n",
    "    content = page.content\n",
    "    soup = BeautifulSoup(content)\n",
    "    rows = soup.body.find('div', class_ = 'atp_rankings-all').find('table', class_ = 'mega-table desktop-table').find('tbody').findAll('tr')\n",
    "    player_ranks = {}\n",
    "    for row in rows:\n",
    "        try:\n",
    "            player = row.find('td', class_ = 'player bold heavy').find('li', class_ = 'name center').find('span').text\n",
    "            rank = row.find('td', class_ = 'rank bold heavy').text\n",
    "            player_ranks[player] = rank\n",
    "        except:\n",
    "            continue\n",
    "\n",
    "    week_ranks = pd.DataFrame(list(player_ranks.items()), columns = ['player','rank'])\n",
    "    week_ranks['week'] = week\n",
    "    print(week,\"ATP rankings extracted\")\n",
    "\n",
    "    atp_ranks.append(week_ranks)\n",
    "\n",
    "atp_ranks = pd.concat(atp_ranks)"
   ]
  },
  {
   "cell_type": "code",
   "execution_count": 61,
   "metadata": {},
   "outputs": [],
   "source": [
    "atp_ranks.to_csv(\"data/atp_ranks.csv\", index=False)"
   ]
  }
 ],
 "metadata": {
  "kernelspec": {
   "display_name": "Python 3",
   "language": "python",
   "name": "python3"
  },
  "language_info": {
   "codemirror_mode": {
    "name": "ipython",
    "version": 3
   },
   "file_extension": ".py",
   "mimetype": "text/x-python",
   "name": "python",
   "nbconvert_exporter": "python",
   "pygments_lexer": "ipython3",
   "version": "3.11.6"
  },
  "orig_nbformat": 4
 },
 "nbformat": 4,
 "nbformat_minor": 2
}
