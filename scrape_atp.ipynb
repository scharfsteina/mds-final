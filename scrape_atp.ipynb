{
 "cells": [
  {
   "cell_type": "code",
   "execution_count": 3,
   "metadata": {},
   "outputs": [],
   "source": [
    "from bs4 import BeautifulSoup\n",
    "import requests as rq\n",
    "from datetime import datetime, timedelta\n",
    "import pandas as pd"
   ]
  },
  {
   "cell_type": "code",
   "execution_count": 13,
   "metadata": {},
   "outputs": [
    {
     "name": "stdout",
     "output_type": "stream",
     "text": [
      "{'2023-06-26': '2023-06-26', '2023-05-22': '2023-05-22', '2024-01-01': '2024-01-07', '2023-08-21': '2023-08-22'}\n"
     ]
    }
   ],
   "source": [
    "def get_first_day_of_week(year, week_number):\n",
    "    # Find the first day of the week using ISO week date standard\n",
    "    # (Monday is the first day of the week, and week 1 is the week that contains the first Thursday of the year)\n",
    "    first_day = datetime.strptime(f'{year}-W{week_number}-1', \"%Y-W%W-%w\")\n",
    "    return first_day\n",
    "\n",
    "tourney_dates = ['2023-06-26','2023-05-22','2024-01-07','2023-08-22']\n",
    "\n",
    "tourney_date_dict = {}\n",
    "for curr_date in tourney_dates:  # Loop until the end of 2024\n",
    "    date = datetime.strptime(curr_date, '%Y-%m-%d').date()\n",
    "    week_number = date.isocalendar()[1]\n",
    "    \n",
    "    fdow = get_first_day_of_week(date.year, week_number).strftime('%Y-%m-%d')\n",
    "    tourney_date_dict[fdow] = curr_date\n",
    "\n",
    "print(tourney_date_dict)"
   ]
  },
  {
   "cell_type": "code",
   "execution_count": 32,
   "metadata": {},
   "outputs": [
    {
     "data": {
      "text/plain": [
       "dict_keys(['2023-06-26', '2023-05-22', '2024-01-01', '2023-08-21'])"
      ]
     },
     "execution_count": 32,
     "metadata": {},
     "output_type": "execute_result"
    }
   ],
   "source": [
    "tourney_date_dict.keys()"
   ]
  },
  {
   "cell_type": "code",
   "execution_count": 17,
   "metadata": {},
   "outputs": [
    {
     "name": "stdout",
     "output_type": "stream",
     "text": [
      "2023-06-26 ATP rankings extracted\n",
      "2023-05-22 ATP rankings extracted\n",
      "2024-01-01 ATP rankings extracted\n",
      "2023-08-21 ATP rankings extracted\n"
     ]
    }
   ],
   "source": [
    "atp_ranks = []\n",
    "for week in list(tourney_date_dict.keys()):\n",
    "    url = \"https://www.atptour.com/en/rankings/singles?RankRange=0-5000&DateWeek=\"+week \n",
    "    page = rq.get(url)\n",
    "    content = page.content\n",
    "    soup = BeautifulSoup(content)\n",
    "    rows = soup.body.find('div', class_ = 'atp_rankings-all').find('table', class_ = 'mega-table desktop-table').find('tbody').findAll('tr')\n",
    "    player_ranks = {}\n",
    "    for row in rows:\n",
    "        try:\n",
    "            player = row.find('td', class_ = 'player bold heavy').find('li', class_ = 'name center').find('span').text\n",
    "            rank = row.find('td', class_ = 'rank bold heavy').text\n",
    "            player_ranks[player] = rank\n",
    "        except:\n",
    "            continue\n",
    "\n",
    "    week_ranks = pd.DataFrame(list(player_ranks.items()), columns = ['player','rank'])\n",
    "    week_ranks['week'] = tourney_date_dict[week]\n",
    "    print(week,\"ATP rankings extracted\")\n",
    "\n",
    "    atp_ranks.append(week_ranks)\n",
    "\n",
    "atp_ranks = pd.concat(atp_ranks)"
   ]
  },
  {
   "cell_type": "code",
   "execution_count": 29,
   "metadata": {},
   "outputs": [
    {
     "data": {
      "text/html": [
       "<div>\n",
       "<style scoped>\n",
       "    .dataframe tbody tr th:only-of-type {\n",
       "        vertical-align: middle;\n",
       "    }\n",
       "\n",
       "    .dataframe tbody tr th {\n",
       "        vertical-align: top;\n",
       "    }\n",
       "\n",
       "    .dataframe thead th {\n",
       "        text-align: right;\n",
       "    }\n",
       "</style>\n",
       "<table border=\"1\" class=\"dataframe\">\n",
       "  <thead>\n",
       "    <tr style=\"text-align: right;\">\n",
       "      <th></th>\n",
       "      <th>player</th>\n",
       "      <th>rank</th>\n",
       "      <th>week</th>\n",
       "    </tr>\n",
       "  </thead>\n",
       "  <tbody>\n",
       "    <tr>\n",
       "      <th>903</th>\n",
       "      <td>Pablo Cuevas</td>\n",
       "      <td>904T</td>\n",
       "      <td>2023-06-26</td>\n",
       "    </tr>\n",
       "    <tr>\n",
       "      <th>904</th>\n",
       "      <td>Adam Neff</td>\n",
       "      <td>904T</td>\n",
       "      <td>2023-06-26</td>\n",
       "    </tr>\n",
       "    <tr>\n",
       "      <th>923</th>\n",
       "      <td>Menelaos Efstathiou</td>\n",
       "      <td>924T</td>\n",
       "      <td>2023-06-26</td>\n",
       "    </tr>\n",
       "    <tr>\n",
       "      <th>924</th>\n",
       "      <td>John McNally</td>\n",
       "      <td>924T</td>\n",
       "      <td>2023-06-26</td>\n",
       "    </tr>\n",
       "    <tr>\n",
       "      <th>1001</th>\n",
       "      <td>Lorenzo Gagliardo</td>\n",
       "      <td>1002T</td>\n",
       "      <td>2023-06-26</td>\n",
       "    </tr>\n",
       "    <tr>\n",
       "      <th>...</th>\n",
       "      <td>...</td>\n",
       "      <td>...</td>\n",
       "      <td>...</td>\n",
       "    </tr>\n",
       "    <tr>\n",
       "      <th>2059</th>\n",
       "      <td>Youssef Labbene</td>\n",
       "      <td>2057T</td>\n",
       "      <td>2023-08-21</td>\n",
       "    </tr>\n",
       "    <tr>\n",
       "      <th>2060</th>\n",
       "      <td>Ignacio Benzal Alia</td>\n",
       "      <td>2061T</td>\n",
       "      <td>2023-08-21</td>\n",
       "    </tr>\n",
       "    <tr>\n",
       "      <th>2061</th>\n",
       "      <td>Akram El Sallaly</td>\n",
       "      <td>2061T</td>\n",
       "      <td>2023-08-21</td>\n",
       "    </tr>\n",
       "    <tr>\n",
       "      <th>2062</th>\n",
       "      <td>Abhinav Sanjeev Shanmugam</td>\n",
       "      <td>2061T</td>\n",
       "      <td>2023-08-21</td>\n",
       "    </tr>\n",
       "    <tr>\n",
       "      <th>2063</th>\n",
       "      <td>Ioannis Xilas</td>\n",
       "      <td>2061T</td>\n",
       "      <td>2023-08-21</td>\n",
       "    </tr>\n",
       "  </tbody>\n",
       "</table>\n",
       "<p>3374 rows × 3 columns</p>\n",
       "</div>"
      ],
      "text/plain": [
       "                         player   rank        week\n",
       "903                Pablo Cuevas   904T  2023-06-26\n",
       "904                   Adam Neff   904T  2023-06-26\n",
       "923         Menelaos Efstathiou   924T  2023-06-26\n",
       "924                John McNally   924T  2023-06-26\n",
       "1001          Lorenzo Gagliardo  1002T  2023-06-26\n",
       "...                         ...    ...         ...\n",
       "2059            Youssef Labbene  2057T  2023-08-21\n",
       "2060        Ignacio Benzal Alia  2061T  2023-08-21\n",
       "2061           Akram El Sallaly  2061T  2023-08-21\n",
       "2062  Abhinav Sanjeev Shanmugam  2061T  2023-08-21\n",
       "2063              Ioannis Xilas  2061T  2023-08-21\n",
       "\n",
       "[3374 rows x 3 columns]"
      ]
     },
     "execution_count": 29,
     "metadata": {},
     "output_type": "execute_result"
    }
   ],
   "source": [
    "atp_ranks[~atp_ranks['rank'].str.isnumeric()]"
   ]
  },
  {
   "cell_type": "code",
   "execution_count": 31,
   "metadata": {},
   "outputs": [],
   "source": [
    "atp_ranks.to_csv(\"data/atp_ranks.csv\", index=False)"
   ]
  }
 ],
 "metadata": {
  "kernelspec": {
   "display_name": "Python 3",
   "language": "python",
   "name": "python3"
  },
  "language_info": {
   "codemirror_mode": {
    "name": "ipython",
    "version": 3
   },
   "file_extension": ".py",
   "mimetype": "text/x-python",
   "name": "python",
   "nbconvert_exporter": "python",
   "pygments_lexer": "ipython3",
   "version": "3.11.6"
  },
  "orig_nbformat": 4
 },
 "nbformat": 4,
 "nbformat_minor": 2
}
