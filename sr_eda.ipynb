{
 "cells": [
  {
   "cell_type": "code",
   "execution_count": 18,
   "metadata": {},
   "outputs": [],
   "source": [
    "import http.client\n",
    "import json\n",
    "import pandas as pd\n",
    "\n",
    "eda_api_key = \"thp5rpgrbegb8hkc7zrapy36\"\n",
    "mds_api_key = \"fqe4f9fyp8m84mg679xu7dnj\"\n",
    "\n",
    "conn = http.client.HTTPSConnection(\"api.sportradar.com\")"
   ]
  },
  {
   "cell_type": "code",
   "execution_count": 4,
   "metadata": {},
   "outputs": [],
   "source": [
    "def rq_sport_event_timeline(event, api_key):\n",
    "    pre = \"/tennis/trial/v3/en/sport_events/sr:sport_event:\"\n",
    "    post = \"/timeline.json\"\n",
    "    get = pre+event+post+\"?api_key=\"+api_key\n",
    "    conn.request(\"GET\", get)\n",
    "\n",
    "    res = conn.getresponse()\n",
    "    data = res.read().decode(\"utf-8\")\n",
    "    return json.loads(data)\n",
    "\n",
    "timeline = rq_sport_event_timeline(\"46749693\",eda_api_key)\n"
   ]
  },
  {
   "cell_type": "code",
   "execution_count": 8,
   "metadata": {},
   "outputs": [],
   "source": [
    "def pp(json_obj):\n",
    "    print(json.dumps(json_obj, indent=4))"
   ]
  },
  {
   "cell_type": "code",
   "execution_count": null,
   "metadata": {},
   "outputs": [],
   "source": []
  },
  {
   "cell_type": "code",
   "execution_count": 38,
   "metadata": {},
   "outputs": [
    {
     "data": {
      "text/html": [
       "<div>\n",
       "<style scoped>\n",
       "    .dataframe tbody tr th:only-of-type {\n",
       "        vertical-align: middle;\n",
       "    }\n",
       "\n",
       "    .dataframe tbody tr th {\n",
       "        vertical-align: top;\n",
       "    }\n",
       "\n",
       "    .dataframe thead th {\n",
       "        text-align: right;\n",
       "    }\n",
       "</style>\n",
       "<table border=\"1\" class=\"dataframe\">\n",
       "  <thead>\n",
       "    <tr style=\"text-align: right;\">\n",
       "      <th></th>\n",
       "      <th>player_id</th>\n",
       "      <th>name</th>\n",
       "      <th>aces</th>\n",
       "      <th>breakpoints_won</th>\n",
       "      <th>double_faults</th>\n",
       "      <th>first_serve_points_won</th>\n",
       "      <th>first_serve_successful</th>\n",
       "      <th>games_won</th>\n",
       "      <th>max_games_in_a_row</th>\n",
       "      <th>max_points_in_a_row</th>\n",
       "      <th>points_won</th>\n",
       "      <th>second_serve_points_won</th>\n",
       "      <th>second_serve_successful</th>\n",
       "      <th>service_games_won</th>\n",
       "      <th>service_points_lost</th>\n",
       "      <th>service_points_won</th>\n",
       "      <th>tiebreaks_won</th>\n",
       "      <th>total_breakpoints</th>\n",
       "    </tr>\n",
       "  </thead>\n",
       "  <tbody>\n",
       "    <tr>\n",
       "      <th>0</th>\n",
       "      <td>sr:competitor:387066</td>\n",
       "      <td>Forejtek, Jonas</td>\n",
       "      <td>4</td>\n",
       "      <td>4</td>\n",
       "      <td>1</td>\n",
       "      <td>24</td>\n",
       "      <td>28</td>\n",
       "      <td>12</td>\n",
       "      <td>4</td>\n",
       "      <td>6</td>\n",
       "      <td>61</td>\n",
       "      <td>12</td>\n",
       "      <td>25</td>\n",
       "      <td>8</td>\n",
       "      <td>18</td>\n",
       "      <td>36</td>\n",
       "      <td>0</td>\n",
       "      <td>9</td>\n",
       "    </tr>\n",
       "    <tr>\n",
       "      <th>1</th>\n",
       "      <td>sr:competitor:283759</td>\n",
       "      <td>Chidekh, Clement</td>\n",
       "      <td>2</td>\n",
       "      <td>1</td>\n",
       "      <td>7</td>\n",
       "      <td>21</td>\n",
       "      <td>32</td>\n",
       "      <td>6</td>\n",
       "      <td>2</td>\n",
       "      <td>5</td>\n",
       "      <td>47</td>\n",
       "      <td>8</td>\n",
       "      <td>15</td>\n",
       "      <td>5</td>\n",
       "      <td>25</td>\n",
       "      <td>29</td>\n",
       "      <td>0</td>\n",
       "      <td>5</td>\n",
       "    </tr>\n",
       "  </tbody>\n",
       "</table>\n",
       "</div>"
      ],
      "text/plain": [
       "              player_id              name  aces  breakpoints_won  \\\n",
       "0  sr:competitor:387066   Forejtek, Jonas     4                4   \n",
       "1  sr:competitor:283759  Chidekh, Clement     2                1   \n",
       "\n",
       "   double_faults  first_serve_points_won  first_serve_successful  games_won  \\\n",
       "0              1                      24                      28         12   \n",
       "1              7                      21                      32          6   \n",
       "\n",
       "   max_games_in_a_row  max_points_in_a_row  points_won  \\\n",
       "0                   4                    6          61   \n",
       "1                   2                    5          47   \n",
       "\n",
       "   second_serve_points_won  second_serve_successful  service_games_won  \\\n",
       "0                       12                       25                  8   \n",
       "1                        8                       15                  5   \n",
       "\n",
       "   service_points_lost  service_points_won  tiebreaks_won  total_breakpoints  \n",
       "0                   18                  36              0                  9  \n",
       "1                   25                  29              0                  5  "
      ]
     },
     "execution_count": 38,
     "metadata": {},
     "output_type": "execute_result"
    }
   ],
   "source": [
    "comp_info = timeline['statistics']['totals']['competitors'][0]\n",
    "stats1 = pd.json_normalize(comp_info['statistics'])\n",
    "stats1.insert(0, 'player_id', comp_info['id'])\n",
    "stats1.insert(1, 'name', comp_info['name'])\n",
    "\n",
    "comp_info = timeline['statistics']['totals']['competitors'][1]\n",
    "stats2 = pd.json_normalize(comp_info['statistics'])\n",
    "stats2.insert(0, 'player_id', comp_info['id'])\n",
    "stats2.insert(1, 'name', comp_info['name'])\n",
    "\n",
    "pd.merge(stats1, stats2, how='outer', suffixes=(\"_1\", \"_2\"))"
   ]
  },
  {
   "cell_type": "code",
   "execution_count": 36,
   "metadata": {},
   "outputs": [
    {
     "ename": "ValueError",
     "evalue": "columns overlap but no suffix specified: Index(['player_id', 'name', 'aces', 'breakpoints_won', 'double_faults',\n       'first_serve_points_won', 'first_serve_successful', 'games_won',\n       'max_games_in_a_row', 'max_points_in_a_row', 'points_won',\n       'second_serve_points_won', 'second_serve_successful',\n       'service_games_won', 'service_points_lost', 'service_points_won',\n       'tiebreaks_won', 'total_breakpoints'],\n      dtype='object')",
     "output_type": "error",
     "traceback": [
      "\u001b[0;31m---------------------------------------------------------------------------\u001b[0m",
      "\u001b[0;31mValueError\u001b[0m                                Traceback (most recent call last)",
      "Cell \u001b[0;32mIn[36], line 8\u001b[0m\n\u001b[1;32m      5\u001b[0m     stats\u001b[39m.\u001b[39minsert(\u001b[39m0\u001b[39m, \u001b[39m'\u001b[39m\u001b[39mplayer_id\u001b[39m\u001b[39m'\u001b[39m, comp_stats[\u001b[39m'\u001b[39m\u001b[39mid\u001b[39m\u001b[39m'\u001b[39m])\n\u001b[1;32m      6\u001b[0m     stats\u001b[39m.\u001b[39minsert(\u001b[39m1\u001b[39m, \u001b[39m'\u001b[39m\u001b[39mname\u001b[39m\u001b[39m'\u001b[39m, comp_stats[\u001b[39m'\u001b[39m\u001b[39mname\u001b[39m\u001b[39m'\u001b[39m])\n\u001b[0;32m----> 8\u001b[0m     all_stats \u001b[39m=\u001b[39m all_stats\u001b[39m.\u001b[39;49mjoin(stats)\n\u001b[1;32m      9\u001b[0m all_stats\n",
      "File \u001b[0;32m/Library/Frameworks/Python.framework/Versions/3.11/lib/python3.11/site-packages/pandas/core/frame.py:10412\u001b[0m, in \u001b[0;36mDataFrame.join\u001b[0;34m(self, other, on, how, lsuffix, rsuffix, sort, validate)\u001b[0m\n\u001b[1;32m  10402\u001b[0m     \u001b[39mif\u001b[39;00m how \u001b[39m==\u001b[39m \u001b[39m\"\u001b[39m\u001b[39mcross\u001b[39m\u001b[39m\"\u001b[39m:\n\u001b[1;32m  10403\u001b[0m         \u001b[39mreturn\u001b[39;00m merge(\n\u001b[1;32m  10404\u001b[0m             \u001b[39mself\u001b[39m,\n\u001b[1;32m  10405\u001b[0m             other,\n\u001b[0;32m   (...)\u001b[0m\n\u001b[1;32m  10410\u001b[0m             validate\u001b[39m=\u001b[39mvalidate,\n\u001b[1;32m  10411\u001b[0m         )\n\u001b[0;32m> 10412\u001b[0m     \u001b[39mreturn\u001b[39;00m merge(\n\u001b[1;32m  10413\u001b[0m         \u001b[39mself\u001b[39;49m,\n\u001b[1;32m  10414\u001b[0m         other,\n\u001b[1;32m  10415\u001b[0m         left_on\u001b[39m=\u001b[39;49mon,\n\u001b[1;32m  10416\u001b[0m         how\u001b[39m=\u001b[39;49mhow,\n\u001b[1;32m  10417\u001b[0m         left_index\u001b[39m=\u001b[39;49mon \u001b[39mis\u001b[39;49;00m \u001b[39mNone\u001b[39;49;00m,\n\u001b[1;32m  10418\u001b[0m         right_index\u001b[39m=\u001b[39;49m\u001b[39mTrue\u001b[39;49;00m,\n\u001b[1;32m  10419\u001b[0m         suffixes\u001b[39m=\u001b[39;49m(lsuffix, rsuffix),\n\u001b[1;32m  10420\u001b[0m         sort\u001b[39m=\u001b[39;49msort,\n\u001b[1;32m  10421\u001b[0m         validate\u001b[39m=\u001b[39;49mvalidate,\n\u001b[1;32m  10422\u001b[0m     )\n\u001b[1;32m  10423\u001b[0m \u001b[39melse\u001b[39;00m:\n\u001b[1;32m  10424\u001b[0m     \u001b[39mif\u001b[39;00m on \u001b[39mis\u001b[39;00m \u001b[39mnot\u001b[39;00m \u001b[39mNone\u001b[39;00m:\n",
      "File \u001b[0;32m/Library/Frameworks/Python.framework/Versions/3.11/lib/python3.11/site-packages/pandas/core/reshape/merge.py:183\u001b[0m, in \u001b[0;36mmerge\u001b[0;34m(left, right, how, on, left_on, right_on, left_index, right_index, sort, suffixes, copy, indicator, validate)\u001b[0m\n\u001b[1;32m    168\u001b[0m \u001b[39melse\u001b[39;00m:\n\u001b[1;32m    169\u001b[0m     op \u001b[39m=\u001b[39m _MergeOperation(\n\u001b[1;32m    170\u001b[0m         left_df,\n\u001b[1;32m    171\u001b[0m         right_df,\n\u001b[0;32m   (...)\u001b[0m\n\u001b[1;32m    181\u001b[0m         validate\u001b[39m=\u001b[39mvalidate,\n\u001b[1;32m    182\u001b[0m     )\n\u001b[0;32m--> 183\u001b[0m     \u001b[39mreturn\u001b[39;00m op\u001b[39m.\u001b[39;49mget_result(copy\u001b[39m=\u001b[39;49mcopy)\n",
      "File \u001b[0;32m/Library/Frameworks/Python.framework/Versions/3.11/lib/python3.11/site-packages/pandas/core/reshape/merge.py:885\u001b[0m, in \u001b[0;36m_MergeOperation.get_result\u001b[0;34m(self, copy)\u001b[0m\n\u001b[1;32m    881\u001b[0m     \u001b[39mself\u001b[39m\u001b[39m.\u001b[39mleft, \u001b[39mself\u001b[39m\u001b[39m.\u001b[39mright \u001b[39m=\u001b[39m \u001b[39mself\u001b[39m\u001b[39m.\u001b[39m_indicator_pre_merge(\u001b[39mself\u001b[39m\u001b[39m.\u001b[39mleft, \u001b[39mself\u001b[39m\u001b[39m.\u001b[39mright)\n\u001b[1;32m    883\u001b[0m join_index, left_indexer, right_indexer \u001b[39m=\u001b[39m \u001b[39mself\u001b[39m\u001b[39m.\u001b[39m_get_join_info()\n\u001b[0;32m--> 885\u001b[0m result \u001b[39m=\u001b[39m \u001b[39mself\u001b[39;49m\u001b[39m.\u001b[39;49m_reindex_and_concat(\n\u001b[1;32m    886\u001b[0m     join_index, left_indexer, right_indexer, copy\u001b[39m=\u001b[39;49mcopy\n\u001b[1;32m    887\u001b[0m )\n\u001b[1;32m    888\u001b[0m result \u001b[39m=\u001b[39m result\u001b[39m.\u001b[39m__finalize__(\u001b[39mself\u001b[39m, method\u001b[39m=\u001b[39m\u001b[39mself\u001b[39m\u001b[39m.\u001b[39m_merge_type)\n\u001b[1;32m    890\u001b[0m \u001b[39mif\u001b[39;00m \u001b[39mself\u001b[39m\u001b[39m.\u001b[39mindicator:\n",
      "File \u001b[0;32m/Library/Frameworks/Python.framework/Versions/3.11/lib/python3.11/site-packages/pandas/core/reshape/merge.py:837\u001b[0m, in \u001b[0;36m_MergeOperation._reindex_and_concat\u001b[0;34m(self, join_index, left_indexer, right_indexer, copy)\u001b[0m\n\u001b[1;32m    834\u001b[0m left \u001b[39m=\u001b[39m \u001b[39mself\u001b[39m\u001b[39m.\u001b[39mleft[:]\n\u001b[1;32m    835\u001b[0m right \u001b[39m=\u001b[39m \u001b[39mself\u001b[39m\u001b[39m.\u001b[39mright[:]\n\u001b[0;32m--> 837\u001b[0m llabels, rlabels \u001b[39m=\u001b[39m _items_overlap_with_suffix(\n\u001b[1;32m    838\u001b[0m     \u001b[39mself\u001b[39;49m\u001b[39m.\u001b[39;49mleft\u001b[39m.\u001b[39;49m_info_axis, \u001b[39mself\u001b[39;49m\u001b[39m.\u001b[39;49mright\u001b[39m.\u001b[39;49m_info_axis, \u001b[39mself\u001b[39;49m\u001b[39m.\u001b[39;49msuffixes\n\u001b[1;32m    839\u001b[0m )\n\u001b[1;32m    841\u001b[0m \u001b[39mif\u001b[39;00m left_indexer \u001b[39mis\u001b[39;00m \u001b[39mnot\u001b[39;00m \u001b[39mNone\u001b[39;00m \u001b[39mand\u001b[39;00m \u001b[39mnot\u001b[39;00m is_range_indexer(left_indexer, \u001b[39mlen\u001b[39m(left)):\n\u001b[1;32m    842\u001b[0m     \u001b[39m# Pinning the index here (and in the right code just below) is not\u001b[39;00m\n\u001b[1;32m    843\u001b[0m     \u001b[39m#  necessary, but makes the `.take` more performant if we have e.g.\u001b[39;00m\n\u001b[1;32m    844\u001b[0m     \u001b[39m#  a MultiIndex for left.index.\u001b[39;00m\n\u001b[1;32m    845\u001b[0m     lmgr \u001b[39m=\u001b[39m left\u001b[39m.\u001b[39m_mgr\u001b[39m.\u001b[39mreindex_indexer(\n\u001b[1;32m    846\u001b[0m         join_index,\n\u001b[1;32m    847\u001b[0m         left_indexer,\n\u001b[0;32m   (...)\u001b[0m\n\u001b[1;32m    852\u001b[0m         use_na_proxy\u001b[39m=\u001b[39m\u001b[39mTrue\u001b[39;00m,\n\u001b[1;32m    853\u001b[0m     )\n",
      "File \u001b[0;32m/Library/Frameworks/Python.framework/Versions/3.11/lib/python3.11/site-packages/pandas/core/reshape/merge.py:2661\u001b[0m, in \u001b[0;36m_items_overlap_with_suffix\u001b[0;34m(left, right, suffixes)\u001b[0m\n\u001b[1;32m   2658\u001b[0m lsuffix, rsuffix \u001b[39m=\u001b[39m suffixes\n\u001b[1;32m   2660\u001b[0m \u001b[39mif\u001b[39;00m \u001b[39mnot\u001b[39;00m lsuffix \u001b[39mand\u001b[39;00m \u001b[39mnot\u001b[39;00m rsuffix:\n\u001b[0;32m-> 2661\u001b[0m     \u001b[39mraise\u001b[39;00m \u001b[39mValueError\u001b[39;00m(\u001b[39mf\u001b[39m\u001b[39m\"\u001b[39m\u001b[39mcolumns overlap but no suffix specified: \u001b[39m\u001b[39m{\u001b[39;00mto_rename\u001b[39m}\u001b[39;00m\u001b[39m\"\u001b[39m)\n\u001b[1;32m   2663\u001b[0m \u001b[39mdef\u001b[39;00m \u001b[39mrenamer\u001b[39m(x, suffix: \u001b[39mstr\u001b[39m \u001b[39m|\u001b[39m \u001b[39mNone\u001b[39;00m):\n\u001b[1;32m   2664\u001b[0m \u001b[39m    \u001b[39m\u001b[39m\"\"\"\u001b[39;00m\n\u001b[1;32m   2665\u001b[0m \u001b[39m    Rename the left and right indices.\u001b[39;00m\n\u001b[1;32m   2666\u001b[0m \n\u001b[0;32m   (...)\u001b[0m\n\u001b[1;32m   2677\u001b[0m \u001b[39m    x : renamed column name\u001b[39;00m\n\u001b[1;32m   2678\u001b[0m \u001b[39m    \"\"\"\u001b[39;00m\n",
      "\u001b[0;31mValueError\u001b[0m: columns overlap but no suffix specified: Index(['player_id', 'name', 'aces', 'breakpoints_won', 'double_faults',\n       'first_serve_points_won', 'first_serve_successful', 'games_won',\n       'max_games_in_a_row', 'max_points_in_a_row', 'points_won',\n       'second_serve_points_won', 'second_serve_successful',\n       'service_games_won', 'service_points_lost', 'service_points_won',\n       'tiebreaks_won', 'total_breakpoints'],\n      dtype='object')"
     ]
    }
   ],
   "source": [
    "# get competitors' stats for an individual game\n",
    "all_stats = pd.DataFrame()\n",
    "for comp_stats in timeline['statistics']['totals']['competitors']:\n",
    "    stats = pd.json_normalize(comp_stats['statistics'])\n",
    "    stats.insert(0, 'player_id', comp_stats['id'])\n",
    "    stats.insert(1, 'name', comp_stats['name'])\n",
    "\n",
    "    print(stats)"
   ]
  },
  {
   "cell_type": "code",
   "execution_count": null,
   "metadata": {},
   "outputs": [],
   "source": []
  },
  {
   "cell_type": "code",
   "execution_count": 24,
   "metadata": {},
   "outputs": [
    {
     "name": "stdout",
     "output_type": "stream",
     "text": [
      "                     id             name  aces  breakpoints_won  \\\n",
      "0  sr:competitor:387066  Forejtek, Jonas     4                4   \n",
      "\n",
      "   double_faults  first_serve_points_won  first_serve_successful  games_won  \\\n",
      "0              1                      24                      28         12   \n",
      "\n",
      "   max_games_in_a_row  max_points_in_a_row  points_won  \\\n",
      "0                   4                    6          61   \n",
      "\n",
      "   second_serve_points_won  second_serve_successful  service_games_won  \\\n",
      "0                       12                       25                  8   \n",
      "\n",
      "   service_points_lost  service_points_won  tiebreaks_won  total_breakpoints  \n",
      "0                   18                  36              0                  9  \n",
      "                     id              name  aces  breakpoints_won  \\\n",
      "0  sr:competitor:283759  Chidekh, Clement     2                1   \n",
      "\n",
      "   double_faults  first_serve_points_won  first_serve_successful  games_won  \\\n",
      "0              7                      21                      32          6   \n",
      "\n",
      "   max_games_in_a_row  max_points_in_a_row  points_won  \\\n",
      "0                   2                    5          47   \n",
      "\n",
      "   second_serve_points_won  second_serve_successful  service_games_won  \\\n",
      "0                        8                       15                  5   \n",
      "\n",
      "   service_points_lost  service_points_won  tiebreaks_won  total_breakpoints  \n",
      "0                   25                  29              0                  5  \n"
     ]
    }
   ],
   "source": [
    "# get competitors' stats for an individual game\n",
    "all_stats = pd.DataFrame()\n",
    "for comp_stats in timeline['statistics']['totals']['competitors']:\n",
    "    stats = pd.json_normalize(comp_stats['statistics'])\n",
    "    stats.insert(0, 'player_id', comp_stats['id'])\n",
    "    stats.insert(1, 'name', comp_stats['name'])\n",
    "\n",
    "    print(stats)"
   ]
  },
  {
   "cell_type": "code",
   "execution_count": null,
   "metadata": {},
   "outputs": [],
   "source": []
  }
 ],
 "metadata": {
  "kernelspec": {
   "display_name": "Python 3",
   "language": "python",
   "name": "python3"
  },
  "language_info": {
   "codemirror_mode": {
    "name": "ipython",
    "version": 3
   },
   "file_extension": ".py",
   "mimetype": "text/x-python",
   "name": "python",
   "nbconvert_exporter": "python",
   "pygments_lexer": "ipython3",
   "version": "3.11.6"
  },
  "orig_nbformat": 4
 },
 "nbformat": 4,
 "nbformat_minor": 2
}
