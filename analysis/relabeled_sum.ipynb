{
 "cells": [
  {
   "cell_type": "code",
   "execution_count": 5,
   "metadata": {},
   "outputs": [],
   "source": [
    "import numpy as np\n",
    "import pandas as pd\n",
    "import matplotlib.pyplot as plt\n",
    "import regex as re\n",
    "import pickle as pkl\n",
    "import seaborn as sns\n",
    "\n",
    "from scipy import stats\n",
    "from scipy.stats import cumfreq\n",
    "\n",
    "from tabulate import tabulate\n",
    "from scipy.stats import f\n",
    "\n",
    "import os"
   ]
  },
  {
   "cell_type": "code",
   "execution_count": 6,
   "metadata": {},
   "outputs": [],
   "source": [
    "os.chdir(\"/Users/avascharfstein/Desktop/Dartmouth/mds-final\")"
   ]
  },
  {
   "cell_type": "code",
   "execution_count": 7,
   "metadata": {},
   "outputs": [],
   "source": [
    "df = pd.read_csv('data/df_relabeled.csv')\n",
    "with open('data/specific_stats.pkl', 'rb') as f:\n",
    "    specific_stats = pkl.load(f)\n",
    "with open('data/overall_stats.pkl', 'rb') as f:\n",
    "    overall_stats = pkl.load(f)\n",
    "with open('data/context_vars.pkl', 'rb') as f:\n",
    "    context_vars = pkl.load(f)\n",
    "\n",
    "stats_df = df.drop(columns = context_vars)"
   ]
  },
  {
   "cell_type": "code",
   "execution_count": null,
   "metadata": {},
   "outputs": [],
   "source": [
    "def dist_measures(dist):\n",
    "    mean = np.mean(dist)\n",
    "    median = np.median(dist)\n",
    "    std = np.std(dist)\n",
    "    if std==0:\n",
    "        skew = 0\n",
    "    else:\n",
    "        skew = 3*(mean-median)/std\n",
    "    return [mean, median, skew, std]\n",
    "\n",
    "def plt_dist(df, var, xlabel= None):\n",
    "    m_dist = df[df['men']][var]\n",
    "    w_dist = df[~df['men']][var]\n",
    "    [m_mean, m_median, m_skew, m_std] = dist_measures(m_dist)\n",
    "    [w_mean, w_median, w_skew, w_std] = dist_measures(w_dist)\n",
    "    metric = \"Mean\" # default metric is mean\n",
    "    m_metric = m_mean\n",
    "    w_metric = w_mean\n",
    "    #Assume skewness is >0 since there will be no negative values (FOR NOW)\n",
    "    if m_skew > .5 or w_skew >.5: # if one of the distributions is skewed heavily..\n",
    "        metric = \"Median\"\n",
    "        m_metric = m_median\n",
    "        w_metric = w_median\n",
    "\n",
    "    if xlabel is None:\n",
    "        xlabel = var.replace(\"_\",\" \").title()\n",
    "\n",
    "    sns.histplot(m_dist, alpha=0.6, label='Mens', color='skyblue')  # Replace 'blue' with 'skyblue'\n",
    "    sns.histplot(w_dist, alpha=0.4, label='Womens', color='orange')  # Replace 'orange' with 'salmon'\n",
    "\n",
    "    plt.axvline(m_metric, color='skyblue', linestyle='dashed', linewidth=3)\n",
    "    plt.axvline(w_metric, color='orange', linestyle='dashed', linewidth=3)\n",
    "    #plt.title(\"Dashed Line represents \" + metric, fontsize=7)\n",
    "    plt.suptitle(\"Histogram of \" + var.replace(\"_\", \" \").title())\n",
    "    plt.text(0.5, -0.15, f\"Dashed Line represents {metric}\", horizontalalignment='center', verticalalignment='center',\n",
    "             transform=plt.gca().transAxes, fontdict={'fontsize': 8, 'fontstyle': 'italic'})\n",
    "    plt.xlabel(xlabel)\n",
    "    plt.ylabel(\"Matches\")\n",
    "    plt.legend(loc='upper right')\n",
    "    plt.show()"
   ]
  },
  {
   "cell_type": "code",
   "execution_count": null,
   "metadata": {},
   "outputs": [],
   "source": [
    "h = \"_home\"\n",
    "a = \"_away\""
   ]
  },
  {
   "cell_type": "code",
   "execution_count": null,
   "metadata": {},
   "outputs": [],
   "source": [
    "specific_stats.remove('rs')\n",
    "specific_stats.remove('seed')\n",
    "specific_stats.remove('win')"
   ]
  },
  {
   "cell_type": "code",
   "execution_count": null,
   "metadata": {},
   "outputs": [],
   "source": [
    "features_sum = []\n",
    "for stat in specific_stats:\n",
    "    stats_df[stat+\"_sum\"] = stats_df[stat+h]+ stats_df[stat+a]\n",
    "    features_sum.append(stat+\"_sum\")\n",
    "\n",
    "#features_diff.append(\"avg_set_diff\")\n",
    "\n",
    "for x in [x for x in overall_stats if x not in ['match_length','sets','men']]:\n",
    "    features_sum.append(x)\n"
   ]
  },
  {
   "cell_type": "code",
   "execution_count": null,
   "metadata": {},
   "outputs": [],
   "source": [
    "# Remove features whose mean and variance < 1\n",
    "to_remove = []\n",
    "for feature in specific_stats:\n",
    "    ms = dist_measures(stats_df[feature+\"_sum\"])\n",
    "    ms_h = dist_measures(stats_df[feature+h])\n",
    "    ms_a = dist_measures(stats_df[feature+a])\n",
    "    if ms_h[0] < 1 and ms_h[0] < 1 and ms_h[3] < 1 and ms_a[3] <1:\n",
    "        to_remove.append(feature+\"_sum\")\n",
    "        print(\"Removed \"+feature+\"_sum\")\n",
    "\n",
    "features_diff = list(set(features_sum) - set(to_remove))"
   ]
  },
  {
   "cell_type": "code",
   "execution_count": null,
   "metadata": {},
   "outputs": [],
   "source": [
    "features_sum_df = stats_df[features_sum]"
   ]
  },
  {
   "cell_type": "code",
   "execution_count": null,
   "metadata": {},
   "outputs": [],
   "source": [
    "def plt_ecdf(df, var, xlabel=None):\n",
    "    m_dist = df[df['men']][var]\n",
    "    w_dist = df[~df['men']][var]\n",
    "\n",
    "    ks = stats.kstest(m_dist, w_dist)\n",
    "\n",
    "    m_x, m_cf = np.sort(m_dist), np.arange(1, len(m_dist) + 1) / len(m_dist)\n",
    "    w_x, w_cf = np.sort(w_dist), np.arange(1, len(w_dist) + 1) / len(w_dist)\n",
    "\n",
    "    if xlabel is None:\n",
    "        xlabel = var.replace(\"_\", \" \").title()\n",
    "\n",
    "    plt.step(x=m_x, y=m_cf, label='Mens', color='skyblue')\n",
    "    plt.step(x=w_x, y=w_cf, label='Womens', color='orange')\n",
    "\n",
    "    plt.title(\"Empirical CDF of \" + var.replace(\"_\", \" \").title())\n",
    "    plt.xlabel(xlabel)\n",
    "    plt.ylabel(\"Cumulative Probability\")\n",
    "    plt.legend(loc='lower right')\n",
    "    # Display KS test statistic and p-value\n",
    "    plt.text(0.5, -0.15, f\"KS Statistic: {ks.statistic:.4f}, p-value: {ks.pvalue:.4f}\", horizontalalignment='center', verticalalignment='center',\n",
    "             transform=plt.gca().transAxes, fontdict={'fontsize': 8, 'fontstyle': 'italic'})\n",
    "    \n",
    "    plt.show()\n"
   ]
  },
  {
   "cell_type": "code",
   "execution_count": null,
   "metadata": {},
   "outputs": [],
   "source": [
    "def summarize(df, var):\n",
    "    m_dist = df[df['men']][var]\n",
    "    w_dist = df[~df['men']][var]\n",
    "    m_results = stats.describe(m_dist)\n",
    "    w_results = stats.describe(w_dist)\n",
    "\n",
    "    summary_data = [\n",
    "        [\"Mean\", m_results.mean, w_results.mean],\n",
    "        [\"Variance\", m_results.variance, w_results.variance],\n",
    "        [\"Skewness\", stats.skew(m_dist), stats.skew(w_dist)],\n",
    "        [\"Kurtosis\", stats.kurtosis(m_dist), stats.kurtosis(w_dist)],\n",
    "    ]\n",
    "\n",
    "    significant = []\n",
    "\n",
    "    # KS-Test for distributions\n",
    "    ks_stat, ks_p_value = stats.kstest(m_dist, w_dist)\n",
    "    if ks_p_value <.05:\n",
    "        significant.append(\"KS-Test\")\n",
    "\n",
    "    # T-test for means\n",
    "    t_stat, t_p_value = stats.ttest_ind(m_dist, w_dist)\n",
    "    if t_p_value < .05:\n",
    "        significant.append(\"T-test\")\n",
    "\n",
    "    # Mann-Whitney U test (non-parametric test for comparing distributions)\n",
    "    u_stat, mw_p_value = stats.mannwhitneyu(m_dist, w_dist)\n",
    "    if mw_p_value < .05:\n",
    "        significant.append(\"Mann-Whitney U\")\n",
    "\n",
    "    # F-test for variances\n",
    "    f_stat, f_p_value = stats.levene(m_dist, w_dist)\n",
    "    if f_p_value < .05:\n",
    "        significant.append(\"Levene\")\n",
    "\n",
    "    # Results table\n",
    "    results_table = [\n",
    "        [\"KS-test (Distribution)\", ks_stat, ks_p_value],\n",
    "        [\"T-test (Means)\", t_stat, t_p_value],\n",
    "        [\"Mann-Whitney U\", u_stat, mw_p_value],\n",
    "        [\"Levene-test (Variances)\", f_stat, f_p_value],\n",
    "    ]\n",
    "    \n",
    "    var_format = var.replace(\"_\",\" \")\n",
    "    # Print the tables\n",
    "    print(f\"Summary Statistics for {var_format.title()}:\")\n",
    "    print(tabulate(summary_data, headers=[\"Statistic\", \"Men\", \"Women\"], tablefmt=\"grid\"))\n",
    "    print(f\"Statistical Tests for {var_format.title()}:\")\n",
    "    print(tabulate(results_table, headers=[\"Test\", \"Statistic\", \"P-value\"], tablefmt=\"grid\"))\n",
    "    print(\"Tests that are statistically significant:\"+str(significant))\n",
    "    print('\\n\\n')\n",
    "\n",
    "import statsmodels.api as sm\n",
    "\n",
    "def plt_qq(df, var, name):\n",
    "    m_dist = df[df['men']][var]\n",
    "    w_dist = df[~df['men']][var]\n",
    "\n",
    "    #sns.set_palette(sns.color_palette(['skyblue', 'orange']))\n",
    "\n",
    "    fig, axes = plt.subplots(nrows=1, ncols=2, figsize=(12, 6))\n",
    "\n",
    "    stats.probplot(m_dist, plot=axes[0])\n",
    "    axes[0].set_title('Mens')\n",
    "    axes[0].get_lines()[0].set_markeredgecolor('none')\n",
    "    axes[0].get_lines()[0].set_markerfacecolor('skyblue')  # Set color for Men's QQ plot\n",
    "    axes[0].get_lines()[1].set_color('black')  # Set color for the line\n",
    "\n",
    "\n",
    "    stats.probplot(w_dist, plot=axes[1])\n",
    "    axes[1].set_title('Womens')\n",
    "    axes[1].get_lines()[0].set_markeredgecolor('none')\n",
    "    axes[1].get_lines()[0].set_markerfacecolor('orange')  # Set color for Women's QQ plot\n",
    "    axes[1].get_lines()[1].set_color('black')\n",
    "\n",
    "\n",
    "    fig.suptitle(name)\n",
    "    plt.show();\n"
   ]
  },
  {
   "cell_type": "code",
   "execution_count": 1,
   "metadata": {},
   "outputs": [
    {
     "ename": "NameError",
     "evalue": "name 'stats_df' is not defined",
     "output_type": "error",
     "traceback": [
      "\u001b[0;31m---------------------------------------------------------------------------\u001b[0m",
      "\u001b[0;31mNameError\u001b[0m                                 Traceback (most recent call last)",
      "Cell \u001b[0;32mIn[1], line 1\u001b[0m\n\u001b[0;32m----> 1\u001b[0m stats_df\u001b[39m.\u001b[39mcolumns\n",
      "\u001b[0;31mNameError\u001b[0m: name 'stats_df' is not defined"
     ]
    }
   ],
   "source": [
    "stats_df.columns"
   ]
  },
  {
   "cell_type": "code",
   "execution_count": null,
   "metadata": {},
   "outputs": [],
   "source": [
    "for feature in sorted(features_sum):\n",
    "    summarize(stats_df,feature)\n",
    "    plt_ecdf(stats_df, feature)\n",
    "    plt_dist(stats_df, feature)\n",
    "    plt_qq(stats_df, feature, \"Q-Q Plot for \"+feature.replace(\"_\",\" \").title())"
   ]
  }
 ],
 "metadata": {
  "kernelspec": {
   "display_name": "Python 3",
   "language": "python",
   "name": "python3"
  },
  "language_info": {
   "codemirror_mode": {
    "name": "ipython",
    "version": 3
   },
   "file_extension": ".py",
   "mimetype": "text/x-python",
   "name": "python",
   "nbconvert_exporter": "python",
   "pygments_lexer": "ipython3",
   "version": "3.11.6"
  },
  "orig_nbformat": 4
 },
 "nbformat": 4,
 "nbformat_minor": 2
}
