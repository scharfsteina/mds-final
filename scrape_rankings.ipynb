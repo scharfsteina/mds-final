{
 "cells": [
  {
   "cell_type": "code",
   "execution_count": 4,
   "metadata": {},
   "outputs": [],
   "source": [
    "from bs4 import BeautifulSoup\n",
    "import requests as rq\n",
    "from datetime import datetime\n",
    "url = \"https://www.wtatennis.com/rankings/singles\"\n",
    "page = rq.get(url)\n",
    "content = page.content\n",
    "soup = BeautifulSoup(content)"
   ]
  },
  {
   "cell_type": "code",
   "execution_count": 11,
   "metadata": {},
   "outputs": [
    {
     "name": "stdout",
     "output_type": "stream",
     "text": [
      "<Response [403]>\n",
      "Failed to fetch rankings\n"
     ]
    }
   ],
   "source": [
    "\n",
    "def fetch_rankings(date):\n",
    "    url = 'https://www.wtatennis.com/rankings/singles'\n",
    "    \n",
    "    # Construct the payload with the date parameters\n",
    "    payload = {\n",
    "        'data-date': date,\n",
    "    }\n",
    "\n",
    "    response = rq.post(url, data=payload)\n",
    "\n",
    "    print(response)\n",
    "\n",
    "    if response.status_code == 200:\n",
    "        content_type = response.headers.get('Content-Type')\n",
    "        print(f\"Content-Type: {content_type}\")\n",
    "\n",
    "        # Process the response based on its content type\n",
    "        if 'json' in content_type.lower():\n",
    "            rankings_data = response.json()\n",
    "            # Process JSON data\n",
    "            print(rankings_data)\n",
    "        elif 'html' in content_type.lower():\n",
    "            rankings_html = response.text\n",
    "            # Process HTML data\n",
    "            print(rankings_html)\n",
    "        else:\n",
    "            print(\"Unknown content type. Handle accordingly.\")\n",
    "    else:\n",
    "        print('Failed to fetch rankings')\n",
    "\n",
    "# Example usage: Fetch rankings for different date ranges\n",
    "start_date = '2023-12-01'  # Replace with your desired start date\n",
    "\n",
    "rankings_data = fetch_rankings(start_date)\n",
    "if rankings_data:\n",
    "    # Process and use the retrieved rankings data as needed\n",
    "    print(rankings_data)"
   ]
  },
  {
   "cell_type": "code",
   "execution_count": null,
   "metadata": {},
   "outputs": [],
   "source": []
  }
 ],
 "metadata": {
  "kernelspec": {
   "display_name": "Python 3",
   "language": "python",
   "name": "python3"
  },
  "language_info": {
   "codemirror_mode": {
    "name": "ipython",
    "version": 3
   },
   "file_extension": ".py",
   "mimetype": "text/x-python",
   "name": "python",
   "nbconvert_exporter": "python",
   "pygments_lexer": "ipython3",
   "version": "3.11.6"
  },
  "orig_nbformat": 4
 },
 "nbformat": 4,
 "nbformat_minor": 2
}
