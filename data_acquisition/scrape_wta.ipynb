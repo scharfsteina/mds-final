{
 "cells": [
  {
   "cell_type": "code",
   "execution_count": 19,
   "metadata": {},
   "outputs": [],
   "source": [
    "from bs4 import BeautifulSoup\n",
    "from datetime import datetime\n",
    "import time\n",
    "\n",
    "import selenium\n",
    "from selenium import webdriver\n",
    "from selenium.webdriver.common.by import By\n",
    "from selenium.webdriver.support.wait import WebDriverWait\n",
    "from selenium.webdriver.support import expected_conditions as EC\n",
    "import os"
   ]
  },
  {
   "cell_type": "code",
   "execution_count": null,
   "metadata": {},
   "outputs": [],
   "source": [
    "os.chdir(\"/Users/avascharfstein/Desktop/Dartmouth/mds-final\")"
   ]
  },
  {
   "cell_type": "code",
   "execution_count": 20,
   "metadata": {},
   "outputs": [],
   "source": [
    "import requests as rq"
   ]
  },
  {
   "cell_type": "code",
   "execution_count": 21,
   "metadata": {},
   "outputs": [
    {
     "ename": "TimeoutException",
     "evalue": "Message: \n",
     "output_type": "error",
     "traceback": [
      "\u001b[0;31m---------------------------------------------------------------------------\u001b[0m",
      "\u001b[0;31mTimeoutException\u001b[0m                          Traceback (most recent call last)",
      "Cell \u001b[0;32mIn[21], line 8\u001b[0m\n\u001b[1;32m      5\u001b[0m driver \u001b[39m=\u001b[39m webdriver\u001b[39m.\u001b[39mChrome(options\u001b[39m=\u001b[39mop)\n\u001b[1;32m      6\u001b[0m driver\u001b[39m.\u001b[39mget(url)\n\u001b[0;32m----> 8\u001b[0m filter_element \u001b[39m=\u001b[39m WebDriverWait(driver, \u001b[39m10\u001b[39;49m)\u001b[39m.\u001b[39;49muntil(EC\u001b[39m.\u001b[39;49melement_to_be_clickable((By\u001b[39m.\u001b[39;49mCLASS_NAME, \u001b[39m'\u001b[39;49m\u001b[39mrankings-filter__content\u001b[39;49m\u001b[39m'\u001b[39;49m)))\n\u001b[1;32m      9\u001b[0m filter_element\u001b[39m.\u001b[39mclick()\n\u001b[1;32m     11\u001b[0m date_input \u001b[39m=\u001b[39m WebDriverWait(driver, \u001b[39m10\u001b[39m)\u001b[39m.\u001b[39muntil(EC\u001b[39m.\u001b[39melement_to_be_clickable((By\u001b[39m.\u001b[39mCLASS_NAME, \u001b[39m'\u001b[39m\u001b[39mjs-datepicker-trigger\u001b[39m\u001b[39m'\u001b[39m)))\n",
      "File \u001b[0;32m/Library/Frameworks/Python.framework/Versions/3.11/lib/python3.11/site-packages/selenium/webdriver/support/wait.py:105\u001b[0m, in \u001b[0;36mWebDriverWait.until\u001b[0;34m(self, method, message)\u001b[0m\n\u001b[1;32m    103\u001b[0m     \u001b[39mif\u001b[39;00m time\u001b[39m.\u001b[39mmonotonic() \u001b[39m>\u001b[39m end_time:\n\u001b[1;32m    104\u001b[0m         \u001b[39mbreak\u001b[39;00m\n\u001b[0;32m--> 105\u001b[0m \u001b[39mraise\u001b[39;00m TimeoutException(message, screen, stacktrace)\n",
      "\u001b[0;31mTimeoutException\u001b[0m: Message: \n"
     ]
    }
   ],
   "source": [
    "date = '2023-01-02'\n",
    "url = f'https://www.wtatennis.com/rankings/singles'\n",
    "op = webdriver.ChromeOptions()\n",
    "op.add_argument('headless') # don't open up the new chrome page\n",
    "driver = webdriver.Chrome(options=op)\n",
    "driver.get(url)\n",
    "\n",
    "# filter_element = WebDriverWait(driver, 10).until(EC.element_to_be_clickable((By.CLASS_NAME, 'rankings-filter__content')))\n",
    "# filter_element.click()\n",
    "\n",
    "# date_input = WebDriverWait(driver, 10).until(EC.element_to_be_clickable((By.CLASS_NAME, 'js-datepicker-trigger')))\n",
    "\n",
    "# Click on the filter to open the date picker\n",
    "# wait = WebDriverWait(driver, 10)\n",
    "# filter_element = wait.until(EC.element_to_be_clickable((By.CLASS_NAME, 'rankings-filter__content js-filter-trigger js-filter-disable')))\n",
    "# filter_element.click()\n",
    "\n",
    "# # Wait for the date picker to appear (you might need to adjust the sleep time)\n",
    "# time.sleep(2)\n",
    "\n",
    "# # Select the date input field and clear the existing date\n",
    "# date_input = driver.find_element_by_css_selector('.js-datepicker-trigger')\n",
    "# date_input.clear()\n",
    "\n",
    "# # Type the new date into the input field\n",
    "# date_input.send_keys(date)\n",
    "\n",
    "# # Press Enter to apply the new date\n",
    "# date_input.send_keys('\\n')\n",
    "\n",
    "# # Wait for the dynamic content to load (you might need to adjust the sleep time)\n",
    "# time.sleep(5)\n",
    "\n",
    "# # Get the page source after JavaScript has executed\n",
    "# page_source = driver.page_source"
   ]
  },
  {
   "cell_type": "code",
   "execution_count": 36,
   "metadata": {},
   "outputs": [
    {
     "name": "stdout",
     "output_type": "stream",
     "text": [
      "[]\n"
     ]
    }
   ],
   "source": [
    "from selenium.webdriver.common.action_chains import ActionChains\n",
    "\n",
    "reset_button = WebDriverWait(driver, 5).until(\n",
    "        EC.presence_of_element_located((By.CLASS_NAME, 'reset-button'))\n",
    "    )\n",
    "\n",
    "driver.execute_script(\"arguments[0].click();\", reset_button)\n",
    "\n",
    "\n",
    "print(driver.find_elements(By.CLASS_NAME, 'rankings-filter__content js-filter-trigger js-filter-disable'))\n"
   ]
  },
  {
   "cell_type": "code",
   "execution_count": 11,
   "metadata": {},
   "outputs": [
    {
     "data": {
      "text/plain": [
       "[<tr class=\"rankings__row\"> <td class=\"rankings__cell\"> <span class=\"rankings__rank\">1</span> <span class=\"rankings__movement rankings__movement--none\"> - </span> <a aria-label=\"Iga Swiatek\" class=\"rankings__player-link rankings__player-link--chrome\" href=\"//www.wtatennis.com/players/326408/iga-swiatek\" title=\"Iga Swiatek\">Iga Swiatek</a> </td> <td class=\"rankings__cell rankings__cell--player\"> <div class=\"player-headshot player-headshot--closeup rankings__player-picture u-observed head-only head-only--large\" data-init-when-visible=\"true\" data-initialised=\"true\" data-object-fit=\"true\" data-observable-id=\"player-headshot_1707247617863_0.9357821878420516\" data-picture-in-view=\"false\" data-player=\"326408\" data-size=\"RANKINGS\" data-widget=\"player-headshot\"> <picture class=\"js-picture-element player-headshot__photo object-fit-cover-picture\" data-photo-id=\"\" data-size-modifiers=\"head-only,head-only--large\"> <source media=\"(max-width: 840px)\" srcset=\"https://photoresources.wtatennis.com/photo-resources/2023/03/23/23ab41bc-f0ed-4d1a-b767-c203f2493e9b/Swiatek-Crop_326408.jpg?width=56, https://photoresources.wtatennis.com/photo-resources/2023/03/23/23ab41bc-f0ed-4d1a-b767-c203f2493e9b/Swiatek-Crop_326408.jpg?width=112 2x\"/> <source media=\"(min-width: 840px)\" srcset=\"https://photoresources.wtatennis.com/photo-resources/2023/03/23/23ab41bc-f0ed-4d1a-b767-c203f2493e9b/Swiatek-Crop_326408.jpg?width=56, https://photoresources.wtatennis.com/photo-resources/2023/03/23/23ab41bc-f0ed-4d1a-b767-c203f2493e9b/Swiatek-Crop_326408.jpg?width=112, https://photoresources.wtatennis.com/photo-resources/2023/03/23/23ab41bc-f0ed-4d1a-b767-c203f2493e9b/Swiatek-Crop_326408.jpg?width=168 2x\"/> <img alt=\"Swiatek-Crop_326408\" class=\"object-fit-cover-picture__img js-faded-image fade-in-on-load is-loaded\" src=\"https://photoresources.wtatennis.com/photo-resources/2023/03/23/23ab41bc-f0ed-4d1a-b767-c203f2493e9b/Swiatek-Crop_326408.jpg?width=56\"/> </picture> </div> <div class=\"player-name\"> <div class=\"player-name__container\"> <span class=\"player-name__names\"> <span class=\"player-name__first-name\">Iga</span> <span class=\"player-name__last-name\">Swiatek</span> </span> <div class=\"player-name__meta\"> <a class=\"player-name__top-court-link\" href=\"https://www.topcourt.com/n/WTATour\" target=\"_blank\"> <svg class=\"icon player-name__top-court-icon\" height=\"227px\" version=\"1.1\" viewbox=\"0 0 105 227\" width=\"105px\" xmlns=\"http://www.w3.org/2000/svg\" xmlns:xlink=\"http://www.w3.org/1999/xlink\"> <defs> <lineargradient id=\"linearGradient1\" x1=\"35.5265854%\" x2=\"64.4739123%\" y1=\"14.7414368%\" y2=\"85.2561382%\"> <stop offset=\"0%\" stop-color=\"#F3E583\"></stop> <stop offset=\"100%\" stop-color=\"#B0822F\"></stop> </lineargradient> </defs> <g fill=\"none\" fill-rule=\"evenodd\" id=\"Page-1\" stroke=\"none\" stroke-width=\"1\"> <g id=\"Artboard\" transform=\"translate(-158.000000, -97.000000)\"> <g id=\"Layer_3\" transform=\"translate(159.000000, 98.000000)\"> <rect height=\"224.3625\" id=\"Rectangle\" stroke=\"#E2CC72\" stroke-width=\"2\" width=\"102.141216\" x=\"0.277765433\" y=\"0.269189189\"></rect> <rect fill=\"url(#linearGradient1)\" fill-rule=\"nonzero\" height=\"207.302027\" id=\"Rectangle\" width=\"85.0757758\" x=\"9.04619596\" y=\"9.03506757\"></rect> </g> </g> </g> </svg> </a> <div class=\"player-name__country-container player-name__country-container--POL u-show-tablet\"> <img alt=\"POL\" aria-hidden=\"true\" class=\"flag rankings__flag rankings__flag--POL\" src=\"//www.wtatennis.com/resources/v3.83.0/i/elements/flags/pol.svg\"/> <span class=\"rankings__country rankings__country--POL\">POL</span> </div> </div> </div> </div> <a class=\"rankings__player-link\" href=\"//www.wtatennis.com/players/326408/iga-swiatek\" title=\"Iga Swiatek\">Iga Swiatek</a> </td> <td class=\"rankings__cell rankings__cell--POL u-hide-tablet\"> <img alt=\"POL\" aria-hidden=\"true\" class=\"flag rankings__flag rankings__flag--POL\" src=\"//www.wtatennis.com/resources/v3.83.0/i/elements/flags/pol.svg\"/> <span class=\"rankings__country rankings__country--POL\">POL</span> </td> <td class=\"rankings__cell rankings__cell--age\">22</td> <td class=\"rankings__cell rankings__cell--tournaments\">19</td> <td class=\"rankings__cell rankings__cell--points\">9770</td> </tr>,\n",
       " <tr class=\"rankings__row\"> <td class=\"rankings__cell\"> <span class=\"rankings__rank\">2</span> <span class=\"rankings__movement rankings__movement--none\"> - </span> <a aria-label=\"Aryna Sabalenka\" class=\"rankings__player-link rankings__player-link--chrome\" href=\"//www.wtatennis.com/players/320760/aryna-sabalenka\" title=\"Aryna Sabalenka\">Aryna Sabalenka</a> </td> <td class=\"rankings__cell rankings__cell--player\"> <div class=\"player-headshot player-headshot--closeup rankings__player-picture u-observed head-only head-only--large\" data-init-when-visible=\"true\" data-initialised=\"true\" data-object-fit=\"true\" data-observable-id=\"player-headshot_1707247617863_0.24154088030323706\" data-picture-in-view=\"false\" data-player=\"320760\" data-size=\"RANKINGS\" data-widget=\"player-headshot\"> <picture class=\"js-picture-element player-headshot__photo object-fit-cover-picture\" data-photo-id=\"\" data-size-modifiers=\"head-only,head-only--large\"> <source media=\"(max-width: 840px)\" srcset=\"https://photoresources.wtatennis.com/photo-resources/2024/01/22/cf878ed3-30ae-4899-a62b-3b7e9e92f9f2/320760.jpg?width=56, https://photoresources.wtatennis.com/photo-resources/2024/01/22/cf878ed3-30ae-4899-a62b-3b7e9e92f9f2/320760.jpg?width=112 2x\"/> <source media=\"(min-width: 840px)\" srcset=\"https://photoresources.wtatennis.com/photo-resources/2024/01/22/cf878ed3-30ae-4899-a62b-3b7e9e92f9f2/320760.jpg?width=56, https://photoresources.wtatennis.com/photo-resources/2024/01/22/cf878ed3-30ae-4899-a62b-3b7e9e92f9f2/320760.jpg?width=112, https://photoresources.wtatennis.com/photo-resources/2024/01/22/cf878ed3-30ae-4899-a62b-3b7e9e92f9f2/320760.jpg?width=168 2x\"/> <img alt=\"320760\" class=\"object-fit-cover-picture__img js-faded-image fade-in-on-load is-loaded\" src=\"https://photoresources.wtatennis.com/photo-resources/2024/01/22/cf878ed3-30ae-4899-a62b-3b7e9e92f9f2/320760.jpg?width=56\"/> </picture> </div> <div class=\"player-name\"> <div class=\"player-name__container\"> <span class=\"player-name__names\"> <span class=\"player-name__first-name\">Aryna</span> <span class=\"player-name__last-name\">Sabalenka</span> </span> <div class=\"player-name__meta\"> <a class=\"player-name__top-court-link\" href=\"https://www.topcourt.com/n/WTATour\" target=\"_blank\"> <svg class=\"icon player-name__top-court-icon\" height=\"227px\" version=\"1.1\" viewbox=\"0 0 105 227\" width=\"105px\" xmlns=\"http://www.w3.org/2000/svg\" xmlns:xlink=\"http://www.w3.org/1999/xlink\"> <defs> <lineargradient id=\"linearGradient1\" x1=\"35.5265854%\" x2=\"64.4739123%\" y1=\"14.7414368%\" y2=\"85.2561382%\"> <stop offset=\"0%\" stop-color=\"#F3E583\"></stop> <stop offset=\"100%\" stop-color=\"#B0822F\"></stop> </lineargradient> </defs> <g fill=\"none\" fill-rule=\"evenodd\" id=\"Page-1\" stroke=\"none\" stroke-width=\"1\"> <g id=\"Artboard\" transform=\"translate(-158.000000, -97.000000)\"> <g id=\"Layer_3\" transform=\"translate(159.000000, 98.000000)\"> <rect height=\"224.3625\" id=\"Rectangle\" stroke=\"#E2CC72\" stroke-width=\"2\" width=\"102.141216\" x=\"0.277765433\" y=\"0.269189189\"></rect> <rect fill=\"url(#linearGradient1)\" fill-rule=\"nonzero\" height=\"207.302027\" id=\"Rectangle\" width=\"85.0757758\" x=\"9.04619596\" y=\"9.03506757\"></rect> </g> </g> </g> </svg> </a> <div class=\"player-name__country-container player-name__country-container--BLR u-show-tablet\"> <img alt=\"BLR\" aria-hidden=\"true\" class=\"flag rankings__flag rankings__flag--BLR\" src=\"//www.wtatennis.com/resources/v3.83.0/i/elements/flags/blr.svg\"/> <span class=\"rankings__country rankings__country--BLR\">BLR</span> </div> </div> </div> </div> <a class=\"rankings__player-link\" href=\"//www.wtatennis.com/players/320760/aryna-sabalenka\" title=\"Aryna Sabalenka\">Aryna Sabalenka</a> </td> <td class=\"rankings__cell rankings__cell--BLR u-hide-tablet\"> <img alt=\"BLR\" aria-hidden=\"true\" class=\"flag rankings__flag rankings__flag--BLR\" src=\"//www.wtatennis.com/resources/v3.83.0/i/elements/flags/blr.svg\"/> <span class=\"rankings__country rankings__country--BLR\">BLR</span> </td> <td class=\"rankings__cell rankings__cell--age\">25</td> <td class=\"rankings__cell rankings__cell--tournaments\">16</td> <td class=\"rankings__cell rankings__cell--points\">8905</td> </tr>,\n",
       " <tr class=\"rankings__row\"> <td class=\"rankings__cell\"> <span class=\"rankings__rank\">3</span> <span class=\"rankings__movement rankings__movement--none\"> - </span> <a aria-label=\"Coco Gauff\" class=\"rankings__player-link rankings__player-link--chrome\" href=\"//www.wtatennis.com/players/328560/coco-gauff\" title=\"Coco Gauff\">Coco Gauff</a> </td> <td class=\"rankings__cell rankings__cell--player\"> <div class=\"player-headshot player-headshot--closeup rankings__player-picture u-observed has-placeholder\" data-init-when-visible=\"true\" data-object-fit=\"true\" data-observable-id=\"player-headshot_1707247617863_0.6720835558793945\" data-picture-in-view=\"false\" data-player=\"328560\" data-size=\"RANKINGS\" data-widget=\"player-headshot\"> </div> <div class=\"player-name\"> <div class=\"player-name__container\"> <span class=\"player-name__names\"> <span class=\"player-name__first-name\">Coco</span> <span class=\"player-name__last-name\">Gauff</span> </span> <div class=\"player-name__meta\"> <div class=\"player-name__country-container player-name__country-container--USA u-show-tablet\"> <img alt=\"USA\" aria-hidden=\"true\" class=\"flag rankings__flag rankings__flag--USA\" src=\"//www.wtatennis.com/resources/v3.83.0/i/elements/flags/usa.svg\"/> <span class=\"rankings__country rankings__country--USA\">USA</span> </div> </div> </div> </div> <a class=\"rankings__player-link\" href=\"//www.wtatennis.com/players/328560/coco-gauff\" title=\"Coco Gauff\">Coco Gauff</a> </td> <td class=\"rankings__cell rankings__cell--USA u-hide-tablet\"> <img alt=\"USA\" aria-hidden=\"true\" class=\"flag rankings__flag rankings__flag--USA\" src=\"//www.wtatennis.com/resources/v3.83.0/i/elements/flags/usa.svg\"/> <span class=\"rankings__country rankings__country--USA\">USA</span> </td> <td class=\"rankings__cell rankings__cell--age\">19</td> <td class=\"rankings__cell rankings__cell--tournaments\">19</td> <td class=\"rankings__cell rankings__cell--points\">7200</td> </tr>,\n",
       " <tr class=\"rankings__row\"> <td class=\"rankings__cell\"> <span class=\"rankings__rank\">4</span> <span class=\"rankings__movement rankings__movement--none\"> - </span> <a aria-label=\"Jessica Pegula\" class=\"rankings__player-link rankings__player-link--chrome\" href=\"//www.wtatennis.com/players/316956/jessica-pegula\" title=\"Jessica Pegula\">Jessica Pegula</a> </td> <td class=\"rankings__cell rankings__cell--player\"> <div class=\"player-headshot player-headshot--closeup rankings__player-picture u-observed has-placeholder\" data-init-when-visible=\"true\" data-object-fit=\"true\" data-observable-id=\"player-headshot_1707247617863_0.737510940565655\" data-picture-in-view=\"false\" data-player=\"316956\" data-size=\"RANKINGS\" data-widget=\"player-headshot\"> </div> <div class=\"player-name\"> <div class=\"player-name__container\"> <span class=\"player-name__names\"> <span class=\"player-name__first-name\">Jessica</span> <span class=\"player-name__last-name\">Pegula</span> </span> <div class=\"player-name__meta\"> <a class=\"player-name__top-court-link\" href=\"https://www.topcourt.com/n/WTATour\" target=\"_blank\"> <svg class=\"icon player-name__top-court-icon\" height=\"227px\" version=\"1.1\" viewbox=\"0 0 105 227\" width=\"105px\" xmlns=\"http://www.w3.org/2000/svg\" xmlns:xlink=\"http://www.w3.org/1999/xlink\"> <defs> <lineargradient id=\"linearGradient1\" x1=\"35.5265854%\" x2=\"64.4739123%\" y1=\"14.7414368%\" y2=\"85.2561382%\"> <stop offset=\"0%\" stop-color=\"#F3E583\"></stop> <stop offset=\"100%\" stop-color=\"#B0822F\"></stop> </lineargradient> </defs> <g fill=\"none\" fill-rule=\"evenodd\" id=\"Page-1\" stroke=\"none\" stroke-width=\"1\"> <g id=\"Artboard\" transform=\"translate(-158.000000, -97.000000)\"> <g id=\"Layer_3\" transform=\"translate(159.000000, 98.000000)\"> <rect height=\"224.3625\" id=\"Rectangle\" stroke=\"#E2CC72\" stroke-width=\"2\" width=\"102.141216\" x=\"0.277765433\" y=\"0.269189189\"></rect> <rect fill=\"url(#linearGradient1)\" fill-rule=\"nonzero\" height=\"207.302027\" id=\"Rectangle\" width=\"85.0757758\" x=\"9.04619596\" y=\"9.03506757\"></rect> </g> </g> </g> </svg> </a> <div class=\"player-name__country-container player-name__country-container--USA u-show-tablet\"> <img alt=\"USA\" aria-hidden=\"true\" class=\"flag rankings__flag rankings__flag--USA\" src=\"//www.wtatennis.com/resources/v3.83.0/i/elements/flags/usa.svg\"/> <span class=\"rankings__country rankings__country--USA\">USA</span> </div> </div> </div> </div> <a class=\"rankings__player-link\" href=\"//www.wtatennis.com/players/316956/jessica-pegula\" title=\"Jessica Pegula\">Jessica Pegula</a> </td> <td class=\"rankings__cell rankings__cell--USA u-hide-tablet\"> <img alt=\"USA\" aria-hidden=\"true\" class=\"flag rankings__flag rankings__flag--USA\" src=\"//www.wtatennis.com/resources/v3.83.0/i/elements/flags/usa.svg\"/> <span class=\"rankings__country rankings__country--USA\">USA</span> </td> <td class=\"rankings__cell rankings__cell--age\">29</td> <td class=\"rankings__cell rankings__cell--tournaments\">21</td> <td class=\"rankings__cell rankings__cell--points\">5705</td> </tr>,\n",
       " <tr class=\"rankings__row\"> <td class=\"rankings__cell\"> <span class=\"rankings__rank\">5</span> <span class=\"rankings__movement rankings__movement--none\"> - </span> <a aria-label=\"Elena Rybakina\" class=\"rankings__player-link rankings__player-link--chrome\" href=\"//www.wtatennis.com/players/324166/elena-rybakina\" title=\"Elena Rybakina\">Elena Rybakina</a> </td> <td class=\"rankings__cell rankings__cell--player\"> <div class=\"player-headshot player-headshot--closeup rankings__player-picture u-observed has-placeholder\" data-init-when-visible=\"true\" data-object-fit=\"true\" data-observable-id=\"player-headshot_1707247617863_0.22236074887863366\" data-picture-in-view=\"false\" data-player=\"324166\" data-size=\"RANKINGS\" data-widget=\"player-headshot\"> </div> <div class=\"player-name\"> <div class=\"player-name__container\"> <span class=\"player-name__names\"> <span class=\"player-name__first-name\">Elena</span> <span class=\"player-name__last-name\">Rybakina</span> </span> <div class=\"player-name__meta\"> <div class=\"player-name__country-container player-name__country-container--KAZ u-show-tablet\"> <img alt=\"KAZ\" aria-hidden=\"true\" class=\"flag rankings__flag rankings__flag--KAZ\" src=\"//www.wtatennis.com/resources/v3.83.0/i/elements/flags/kaz.svg\"/> <span class=\"rankings__country rankings__country--KAZ\">KAZ</span> </div> </div> </div> </div> <a class=\"rankings__player-link\" href=\"//www.wtatennis.com/players/324166/elena-rybakina\" title=\"Elena Rybakina\">Elena Rybakina</a> </td> <td class=\"rankings__cell rankings__cell--KAZ u-hide-tablet\"> <img alt=\"KAZ\" aria-hidden=\"true\" class=\"flag rankings__flag rankings__flag--KAZ\" src=\"//www.wtatennis.com/resources/v3.83.0/i/elements/flags/kaz.svg\"/> <span class=\"rankings__country rankings__country--KAZ\">KAZ</span> </td> <td class=\"rankings__cell rankings__cell--age\">24</td> <td class=\"rankings__cell rankings__cell--tournaments\">18</td> <td class=\"rankings__cell rankings__cell--points\">5688</td> </tr>,\n",
       " <tr class=\"rankings__row\"> <td class=\"rankings__cell\"> <span class=\"rankings__rank\">6</span> <span class=\"rankings__movement rankings__movement--none\"> - </span> <a aria-label=\"Ons Jabeur\" class=\"rankings__player-link rankings__player-link--chrome\" href=\"//www.wtatennis.com/players/316847/ons-jabeur\" title=\"Ons Jabeur\">Ons Jabeur</a> </td> <td class=\"rankings__cell rankings__cell--player\"> <div class=\"player-headshot player-headshot--closeup rankings__player-picture u-observed has-placeholder\" data-init-when-visible=\"true\" data-object-fit=\"true\" data-observable-id=\"player-headshot_1707247617863_0.6045842314623269\" data-picture-in-view=\"false\" data-player=\"316847\" data-size=\"RANKINGS\" data-widget=\"player-headshot\"> </div> <div class=\"player-name\"> <div class=\"player-name__container\"> <span class=\"player-name__names\"> <span class=\"player-name__first-name\">Ons</span> <span class=\"player-name__last-name\">Jabeur</span> </span> <div class=\"player-name__meta\"> <div class=\"player-name__country-container player-name__country-container--TUN u-show-tablet\"> <img alt=\"TUN\" aria-hidden=\"true\" class=\"flag rankings__flag rankings__flag--TUN\" src=\"//www.wtatennis.com/resources/v3.83.0/i/elements/flags/tun.svg\"/> <span class=\"rankings__country rankings__country--TUN\">TUN</span> </div> </div> </div> </div> <a class=\"rankings__player-link\" href=\"//www.wtatennis.com/players/316847/ons-jabeur\" title=\"Ons Jabeur\">Ons Jabeur</a> </td> <td class=\"rankings__cell rankings__cell--TUN u-hide-tablet\"> <img alt=\"TUN\" aria-hidden=\"true\" class=\"flag rankings__flag rankings__flag--TUN\" src=\"//www.wtatennis.com/resources/v3.83.0/i/elements/flags/tun.svg\"/> <span class=\"rankings__country rankings__country--TUN\">TUN</span> </td> <td class=\"rankings__cell rankings__cell--age\">29</td> <td class=\"rankings__cell rankings__cell--tournaments\">20</td> <td class=\"rankings__cell rankings__cell--points\">4076</td> </tr>,\n",
       " <tr class=\"rankings__row\"> <td class=\"rankings__cell\"> <span class=\"rankings__rank\">7</span> <span class=\"rankings__movement rankings__movement--none\"> - </span> <a aria-label=\"Qinwen Zheng\" class=\"rankings__player-link rankings__player-link--chrome\" href=\"//www.wtatennis.com/players/328120/qinwen-zheng\" title=\"Qinwen Zheng\">Qinwen Zheng</a> </td> <td class=\"rankings__cell rankings__cell--player\"> <div class=\"player-headshot player-headshot--closeup rankings__player-picture u-observed has-placeholder\" data-init-when-visible=\"true\" data-object-fit=\"true\" data-observable-id=\"player-headshot_1707247617863_0.053718887230374435\" data-picture-in-view=\"false\" data-player=\"328120\" data-size=\"RANKINGS\" data-widget=\"player-headshot\"> </div> <div class=\"player-name\"> <div class=\"player-name__container\"> <span class=\"player-name__names\"> <span class=\"player-name__first-name\">Qinwen</span> <span class=\"player-name__last-name\">Zheng</span> </span> <div class=\"player-name__meta\"> <div class=\"player-name__country-container player-name__country-container--CHN u-show-tablet\"> <img alt=\"CHN\" aria-hidden=\"true\" class=\"flag rankings__flag rankings__flag--CHN\" src=\"//www.wtatennis.com/resources/v3.83.0/i/elements/flags/chn.svg\"/> <span class=\"rankings__country rankings__country--CHN\">CHN</span> </div> </div> </div> </div> <a class=\"rankings__player-link\" href=\"//www.wtatennis.com/players/328120/qinwen-zheng\" title=\"Qinwen Zheng\">Qinwen Zheng</a> </td> <td class=\"rankings__cell rankings__cell--CHN u-hide-tablet\"> <img alt=\"CHN\" aria-hidden=\"true\" class=\"flag rankings__flag rankings__flag--CHN\" src=\"//www.wtatennis.com/resources/v3.83.0/i/elements/flags/chn.svg\"/> <span class=\"rankings__country rankings__country--CHN\">CHN</span> </td> <td class=\"rankings__cell rankings__cell--age\">21</td> <td class=\"rankings__cell rankings__cell--tournaments\">22</td> <td class=\"rankings__cell rankings__cell--points\">3950</td> </tr>,\n",
       " <tr class=\"rankings__row\"> <td class=\"rankings__cell\"> <span class=\"rankings__rank\">8</span> <span class=\"rankings__movement rankings__movement--none\"> - </span> <a aria-label=\"Marketa Vondrousova\" class=\"rankings__player-link rankings__player-link--chrome\" href=\"//www.wtatennis.com/players/323027/marketa-vondrousova\" title=\"Marketa Vondrousova\">Marketa Vondrousova</a> </td> <td class=\"rankings__cell rankings__cell--player\"> <div class=\"player-headshot player-headshot--closeup rankings__player-picture u-observed has-placeholder\" data-init-when-visible=\"true\" data-object-fit=\"true\" data-observable-id=\"player-headshot_1707247617863_0.9005849890135806\" data-picture-in-view=\"false\" data-player=\"323027\" data-size=\"RANKINGS\" data-widget=\"player-headshot\"> </div> <div class=\"player-name\"> <div class=\"player-name__container\"> <span class=\"player-name__names\"> <span class=\"player-name__first-name\">Marketa</span> <span class=\"player-name__last-name\">Vondrousova</span> </span> <div class=\"player-name__meta\"> <div class=\"player-name__country-container player-name__country-container--CZE u-show-tablet\"> <img alt=\"CZE\" aria-hidden=\"true\" class=\"flag rankings__flag rankings__flag--CZE\" src=\"//www.wtatennis.com/resources/v3.83.0/i/elements/flags/cze.svg\"/> <span class=\"rankings__country rankings__country--CZE\">CZE</span> </div> </div> </div> </div> <a class=\"rankings__player-link\" href=\"//www.wtatennis.com/players/323027/marketa-vondrousova\" title=\"Marketa Vondrousova\">Marketa Vondrousova</a> </td> <td class=\"rankings__cell rankings__cell--CZE u-hide-tablet\"> <img alt=\"CZE\" aria-hidden=\"true\" class=\"flag rankings__flag rankings__flag--CZE\" src=\"//www.wtatennis.com/resources/v3.83.0/i/elements/flags/cze.svg\"/> <span class=\"rankings__country rankings__country--CZE\">CZE</span> </td> <td class=\"rankings__cell rankings__cell--age\">24</td> <td class=\"rankings__cell rankings__cell--tournaments\">16</td> <td class=\"rankings__cell rankings__cell--points\">3846</td> </tr>,\n",
       " <tr class=\"rankings__row\"> <td class=\"rankings__cell\"> <span class=\"rankings__rank\">9</span> <span class=\"rankings__movement rankings__movement--none\"> - </span> <a aria-label=\"Maria Sakkari\" class=\"rankings__player-link rankings__player-link--chrome\" href=\"//www.wtatennis.com/players/318312/maria-sakkari\" title=\"Maria Sakkari\">Maria Sakkari</a> </td> <td class=\"rankings__cell rankings__cell--player\"> <div class=\"player-headshot player-headshot--closeup rankings__player-picture u-observed has-placeholder\" data-init-when-visible=\"true\" data-object-fit=\"true\" data-observable-id=\"player-headshot_1707247617863_0.3601088186194039\" data-picture-in-view=\"false\" data-player=\"318312\" data-size=\"RANKINGS\" data-widget=\"player-headshot\"> </div> <div class=\"player-name\"> <div class=\"player-name__container\"> <span class=\"player-name__names\"> <span class=\"player-name__first-name\">Maria</span> <span class=\"player-name__last-name\">Sakkari</span> </span> <div class=\"player-name__meta\"> <a class=\"player-name__top-court-link\" href=\"https://www.topcourt.com/n/WTATour\" target=\"_blank\"> <svg class=\"icon player-name__top-court-icon\" height=\"227px\" version=\"1.1\" viewbox=\"0 0 105 227\" width=\"105px\" xmlns=\"http://www.w3.org/2000/svg\" xmlns:xlink=\"http://www.w3.org/1999/xlink\"> <defs> <lineargradient id=\"linearGradient1\" x1=\"35.5265854%\" x2=\"64.4739123%\" y1=\"14.7414368%\" y2=\"85.2561382%\"> <stop offset=\"0%\" stop-color=\"#F3E583\"></stop> <stop offset=\"100%\" stop-color=\"#B0822F\"></stop> </lineargradient> </defs> <g fill=\"none\" fill-rule=\"evenodd\" id=\"Page-1\" stroke=\"none\" stroke-width=\"1\"> <g id=\"Artboard\" transform=\"translate(-158.000000, -97.000000)\"> <g id=\"Layer_3\" transform=\"translate(159.000000, 98.000000)\"> <rect height=\"224.3625\" id=\"Rectangle\" stroke=\"#E2CC72\" stroke-width=\"2\" width=\"102.141216\" x=\"0.277765433\" y=\"0.269189189\"></rect> <rect fill=\"url(#linearGradient1)\" fill-rule=\"nonzero\" height=\"207.302027\" id=\"Rectangle\" width=\"85.0757758\" x=\"9.04619596\" y=\"9.03506757\"></rect> </g> </g> </g> </svg> </a> <div class=\"player-name__country-container player-name__country-container--GRE u-show-tablet\"> <img alt=\"GRE\" aria-hidden=\"true\" class=\"flag rankings__flag rankings__flag--GRE\" src=\"//www.wtatennis.com/resources/v3.83.0/i/elements/flags/gre.svg\"/> <span class=\"rankings__country rankings__country--GRE\">GRE</span> </div> </div> </div> </div> <a class=\"rankings__player-link\" href=\"//www.wtatennis.com/players/318312/maria-sakkari\" title=\"Maria Sakkari\">Maria Sakkari</a> </td> <td class=\"rankings__cell rankings__cell--GRE u-hide-tablet\"> <img alt=\"GRE\" aria-hidden=\"true\" class=\"flag rankings__flag rankings__flag--GRE\" src=\"//www.wtatennis.com/resources/v3.83.0/i/elements/flags/gre.svg\"/> <span class=\"rankings__country rankings__country--GRE\">GRE</span> </td> <td class=\"rankings__cell rankings__cell--age\">28</td> <td class=\"rankings__cell rankings__cell--tournaments\">24</td> <td class=\"rankings__cell rankings__cell--points\">3710</td> </tr>,\n",
       " <tr class=\"rankings__row\"> <td class=\"rankings__cell\"> <span class=\"rankings__rank\">10</span> <span class=\"rankings__movement rankings__movement--none\"> - </span> <a aria-label=\"Karolina Muchova\" class=\"rankings__player-link rankings__player-link--chrome\" href=\"//www.wtatennis.com/players/322191/karolina-muchova\" title=\"Karolina Muchova\">Karolina Muchova</a> </td> <td class=\"rankings__cell rankings__cell--player\"> <div class=\"player-headshot player-headshot--closeup rankings__player-picture u-observed has-placeholder\" data-init-when-visible=\"true\" data-object-fit=\"true\" data-observable-id=\"player-headshot_1707247617863_0.6061155952458144\" data-picture-in-view=\"false\" data-player=\"322191\" data-size=\"RANKINGS\" data-widget=\"player-headshot\"> </div> <div class=\"player-name\"> <div class=\"player-name__container\"> <span class=\"player-name__names\"> <span class=\"player-name__first-name\">Karolina</span> <span class=\"player-name__last-name\">Muchova</span> </span> <div class=\"player-name__meta\"> <div class=\"player-name__country-container player-name__country-container--CZE u-show-tablet\"> <img alt=\"CZE\" aria-hidden=\"true\" class=\"flag rankings__flag rankings__flag--CZE\" src=\"//www.wtatennis.com/resources/v3.83.0/i/elements/flags/cze.svg\"/> <span class=\"rankings__country rankings__country--CZE\">CZE</span> </div> </div> </div> </div> <a class=\"rankings__player-link\" href=\"//www.wtatennis.com/players/322191/karolina-muchova\" title=\"Karolina Muchova\">Karolina Muchova</a> </td> <td class=\"rankings__cell rankings__cell--CZE u-hide-tablet\"> <img alt=\"CZE\" aria-hidden=\"true\" class=\"flag rankings__flag rankings__flag--CZE\" src=\"//www.wtatennis.com/resources/v3.83.0/i/elements/flags/cze.svg\"/> <span class=\"rankings__country rankings__country--CZE\">CZE</span> </td> <td class=\"rankings__cell rankings__cell--age\">27</td> <td class=\"rankings__cell rankings__cell--tournaments\">14</td> <td class=\"rankings__cell rankings__cell--points\">3520</td> </tr>,\n",
       " <tr class=\"rankings__row\"> <td class=\"rankings__cell\"> <span class=\"rankings__rank\">11</span> <span class=\"rankings__movement rankings__movement--up\"> 1 </span> <a aria-label=\"Jelena Ostapenko\" class=\"rankings__player-link rankings__player-link--chrome\" href=\"//www.wtatennis.com/players/319939/jelena-ostapenko\" title=\"Jelena Ostapenko\">Jelena Ostapenko</a> </td> <td class=\"rankings__cell rankings__cell--player\"> <div class=\"player-headshot player-headshot--closeup rankings__player-picture u-observed has-placeholder\" data-init-when-visible=\"true\" data-object-fit=\"true\" data-observable-id=\"player-headshot_1707247617863_0.9055130634617736\" data-picture-in-view=\"false\" data-player=\"319939\" data-size=\"RANKINGS\" data-widget=\"player-headshot\"> </div> <div class=\"player-name\"> <div class=\"player-name__container\"> <span class=\"player-name__names\"> <span class=\"player-name__first-name\">Jelena</span> <span class=\"player-name__last-name\">Ostapenko</span> </span> <div class=\"player-name__meta\"> <a class=\"player-name__top-court-link\" href=\"https://www.topcourt.com/n/WTATour\" target=\"_blank\"> <svg class=\"icon player-name__top-court-icon\" height=\"227px\" version=\"1.1\" viewbox=\"0 0 105 227\" width=\"105px\" xmlns=\"http://www.w3.org/2000/svg\" xmlns:xlink=\"http://www.w3.org/1999/xlink\"> <defs> <lineargradient id=\"linearGradient1\" x1=\"35.5265854%\" x2=\"64.4739123%\" y1=\"14.7414368%\" y2=\"85.2561382%\"> <stop offset=\"0%\" stop-color=\"#F3E583\"></stop> <stop offset=\"100%\" stop-color=\"#B0822F\"></stop> </lineargradient> </defs> <g fill=\"none\" fill-rule=\"evenodd\" id=\"Page-1\" stroke=\"none\" stroke-width=\"1\"> <g id=\"Artboard\" transform=\"translate(-158.000000, -97.000000)\"> <g id=\"Layer_3\" transform=\"translate(159.000000, 98.000000)\"> <rect height=\"224.3625\" id=\"Rectangle\" stroke=\"#E2CC72\" stroke-width=\"2\" width=\"102.141216\" x=\"0.277765433\" y=\"0.269189189\"></rect> <rect fill=\"url(#linearGradient1)\" fill-rule=\"nonzero\" height=\"207.302027\" id=\"Rectangle\" width=\"85.0757758\" x=\"9.04619596\" y=\"9.03506757\"></rect> </g> </g> </g> </svg> </a> <div class=\"player-name__country-container player-name__country-container--LAT u-show-tablet\"> <img alt=\"LAT\" aria-hidden=\"true\" class=\"flag rankings__flag rankings__flag--LAT\" src=\"//www.wtatennis.com/resources/v3.83.0/i/elements/flags/lat.svg\"/> <span class=\"rankings__country rankings__country--LAT\">LAT</span> </div> </div> </div> </div> <a class=\"rankings__player-link\" href=\"//www.wtatennis.com/players/319939/jelena-ostapenko\" title=\"Jelena Ostapenko\">Jelena Ostapenko</a> </td> <td class=\"rankings__cell rankings__cell--LAT u-hide-tablet\"> <img alt=\"LAT\" aria-hidden=\"true\" class=\"flag rankings__flag rankings__flag--LAT\" src=\"//www.wtatennis.com/resources/v3.83.0/i/elements/flags/lat.svg\"/> <span class=\"rankings__country rankings__country--LAT\">LAT</span> </td> <td class=\"rankings__cell rankings__cell--age\">26</td> <td class=\"rankings__cell rankings__cell--tournaments\">24</td> <td class=\"rankings__cell rankings__cell--points\">3473</td> </tr>,\n",
       " <tr class=\"rankings__row\"> <td class=\"rankings__cell\"> <span class=\"rankings__rank\">12</span> <span class=\"rankings__movement rankings__movement--down\"> 1 </span> <a aria-label=\"Barbora Krejcikova\" class=\"rankings__player-link rankings__player-link--chrome\" href=\"//www.wtatennis.com/players/318314/barbora-krejcikova\" title=\"Barbora Krejcikova\">Barbora Krejcikova</a> </td> <td class=\"rankings__cell rankings__cell--player\"> <div class=\"player-headshot player-headshot--closeup rankings__player-picture u-observed has-placeholder\" data-init-when-visible=\"true\" data-object-fit=\"true\" data-observable-id=\"player-headshot_1707247617863_0.0485799836648273\" data-picture-in-view=\"false\" data-player=\"318314\" data-size=\"RANKINGS\" data-widget=\"player-headshot\"> </div> <div class=\"player-name\"> <div class=\"player-name__container\"> <span class=\"player-name__names\"> <span class=\"player-name__first-name\">Barbora</span> <span class=\"player-name__last-name\">Krejcikova</span> </span> <div class=\"player-name__meta\"> <div class=\"player-name__country-container player-name__country-container--CZE u-show-tablet\"> <img alt=\"CZE\" aria-hidden=\"true\" class=\"flag rankings__flag rankings__flag--CZE\" src=\"//www.wtatennis.com/resources/v3.83.0/i/elements/flags/cze.svg\"/> <span class=\"rankings__country rankings__country--CZE\">CZE</span> </div> </div> </div> </div> <a class=\"rankings__player-link\" href=\"//www.wtatennis.com/players/318314/barbora-krejcikova\" title=\"Barbora Krejcikova\">Barbora Krejcikova</a> </td> <td class=\"rankings__cell rankings__cell--CZE u-hide-tablet\"> <img alt=\"CZE\" aria-hidden=\"true\" class=\"flag rankings__flag rankings__flag--CZE\" src=\"//www.wtatennis.com/resources/v3.83.0/i/elements/flags/cze.svg\"/> <span class=\"rankings__country rankings__country--CZE\">CZE</span> </td> <td class=\"rankings__cell rankings__cell--age\">28</td> <td class=\"rankings__cell rankings__cell--tournaments\">21</td> <td class=\"rankings__cell rankings__cell--points\">3081</td> </tr>,\n",
       " <tr class=\"rankings__row\"> <td class=\"rankings__cell\"> <span class=\"rankings__rank\">13</span> <span class=\"rankings__movement rankings__movement--none\"> - </span> <a aria-label=\"Beatriz Haddad Maia\" class=\"rankings__player-link rankings__player-link--chrome\" href=\"//www.wtatennis.com/players/318176/beatriz-haddad-maia\" title=\"Beatriz Haddad Maia\">Beatriz Haddad Maia</a> </td> <td class=\"rankings__cell rankings__cell--player\"> <div class=\"player-headshot player-headshot--closeup rankings__player-picture u-observed has-placeholder\" data-init-when-visible=\"true\" data-object-fit=\"true\" data-observable-id=\"player-headshot_1707247617863_0.8466511010744644\" data-picture-in-view=\"false\" data-player=\"318176\" data-size=\"RANKINGS\" data-widget=\"player-headshot\"> </div> <div class=\"player-name\"> <div class=\"player-name__container\"> <span class=\"player-name__names\"> <span class=\"player-name__first-name\">Beatriz</span> <span class=\"player-name__last-name\">Haddad Maia</span> </span> <div class=\"player-name__meta\"> <div class=\"player-name__country-container player-name__country-container--BRA u-show-tablet\"> <img alt=\"BRA\" aria-hidden=\"true\" class=\"flag rankings__flag rankings__flag--BRA\" src=\"//www.wtatennis.com/resources/v3.83.0/i/elements/flags/bra.svg\"/> <span class=\"rankings__country rankings__country--BRA\">BRA</span> </div> </div> </div> </div> <a class=\"rankings__player-link\" href=\"//www.wtatennis.com/players/318176/beatriz-haddad-maia\" title=\"Beatriz Haddad Maia\">Beatriz Haddad Maia</a> </td> <td class=\"rankings__cell rankings__cell--BRA u-hide-tablet\"> <img alt=\"BRA\" aria-hidden=\"true\" class=\"flag rankings__flag rankings__flag--BRA\" src=\"//www.wtatennis.com/resources/v3.83.0/i/elements/flags/bra.svg\"/> <span class=\"rankings__country rankings__country--BRA\">BRA</span> </td> <td class=\"rankings__cell rankings__cell--age\">27</td> <td class=\"rankings__cell rankings__cell--tournaments\">23</td> <td class=\"rankings__cell rankings__cell--points\">2950</td> </tr>,\n",
       " <tr class=\"rankings__row\"> <td class=\"rankings__cell\"> <span class=\"rankings__rank\">14</span> <span class=\"rankings__movement rankings__movement--none\"> - </span> <a aria-label=\"Daria Kasatkina\" class=\"rankings__player-link rankings__player-link--chrome\" href=\"//www.wtatennis.com/players/322082/daria-kasatkina\" title=\"Daria Kasatkina\">Daria Kasatkina</a> </td> <td class=\"rankings__cell rankings__cell--player\"> <div class=\"player-headshot player-headshot--closeup rankings__player-picture u-observed has-placeholder\" data-init-when-visible=\"true\" data-object-fit=\"true\" data-observable-id=\"player-headshot_1707247617863_0.3722388202349818\" data-picture-in-view=\"false\" data-player=\"322082\" data-size=\"RANKINGS\" data-widget=\"player-headshot\"> </div> <div class=\"player-name\"> <div class=\"player-name__container\"> <span class=\"player-name__names\"> <span class=\"player-name__first-name\">Daria</span> <span class=\"player-name__last-name\">Kasatkina</span> </span> <div class=\"player-name__meta\"> <div class=\"player-name__country-container player-name__country-container--RUS u-show-tablet\"> <img alt=\"RUS\" aria-hidden=\"true\" class=\"flag rankings__flag rankings__flag--RUS\" src=\"//www.wtatennis.com/resources/v3.83.0/i/elements/flags/rus.svg\"/> <span class=\"rankings__country rankings__country--RUS\">RUS</span> </div> </div> </div> </div> <a class=\"rankings__player-link\" href=\"//www.wtatennis.com/players/322082/daria-kasatkina\" title=\"Daria Kasatkina\">Daria Kasatkina</a> </td> <td class=\"rankings__cell rankings__cell--RUS u-hide-tablet\"> <img alt=\"RUS\" aria-hidden=\"true\" class=\"flag rankings__flag rankings__flag--RUS\" src=\"//www.wtatennis.com/resources/v3.83.0/i/elements/flags/rus.svg\"/> <span class=\"rankings__country rankings__country--RUS\">RUS</span> </td> <td class=\"rankings__cell rankings__cell--age\">26</td> <td class=\"rankings__cell rankings__cell--tournaments\">25</td> <td class=\"rankings__cell rankings__cell--points\">2838</td> </tr>,\n",
       " <tr class=\"rankings__row\"> <td class=\"rankings__cell\"> <span class=\"rankings__rank\">15</span> <span class=\"rankings__movement rankings__movement--none\"> - </span> <a aria-label=\"Liudmila Samsonova\" class=\"rankings__player-link rankings__player-link--chrome\" href=\"//www.wtatennis.com/players/322222/liudmila-samsonova\" title=\"Liudmila Samsonova\">Liudmila Samsonova</a> </td> <td class=\"rankings__cell rankings__cell--player\"> <div class=\"player-headshot player-headshot--closeup rankings__player-picture u-observed has-placeholder\" data-init-when-visible=\"true\" data-object-fit=\"true\" data-observable-id=\"player-headshot_1707247617863_0.597653284222635\" data-picture-in-view=\"false\" data-player=\"322222\" data-size=\"RANKINGS\" data-widget=\"player-headshot\"> </div> <div class=\"player-name\"> <div class=\"player-name__container\"> <span class=\"player-name__names\"> <span class=\"player-name__first-name\">Liudmila</span> <span class=\"player-name__last-name\">Samsonova</span> </span> <div class=\"player-name__meta\"> <div class=\"player-name__country-container player-name__country-container--RUS u-show-tablet\"> <img alt=\"RUS\" aria-hidden=\"true\" class=\"flag rankings__flag rankings__flag--RUS\" src=\"//www.wtatennis.com/resources/v3.83.0/i/elements/flags/rus.svg\"/> <span class=\"rankings__country rankings__country--RUS\">RUS</span> </div> </div> </div> </div> <a class=\"rankings__player-link\" href=\"//www.wtatennis.com/players/322222/liudmila-samsonova\" title=\"Liudmila Samsonova\">Liudmila Samsonova</a> </td> <td class=\"rankings__cell rankings__cell--RUS u-hide-tablet\"> <img alt=\"RUS\" aria-hidden=\"true\" class=\"flag rankings__flag rankings__flag--RUS\" src=\"//www.wtatennis.com/resources/v3.83.0/i/elements/flags/rus.svg\"/> <span class=\"rankings__country rankings__country--RUS\">RUS</span> </td> <td class=\"rankings__cell rankings__cell--age\">25</td> <td class=\"rankings__cell rankings__cell--tournaments\">24</td> <td class=\"rankings__cell rankings__cell--points\">2700</td> </tr>,\n",
       " <tr class=\"rankings__row\"> <td class=\"rankings__cell\"> <span class=\"rankings__rank\">16</span> <span class=\"rankings__movement rankings__movement--none\"> - </span> <a aria-label=\"Veronika Kudermetova\" class=\"rankings__player-link rankings__player-link--chrome\" href=\"//www.wtatennis.com/players/319526/veronika-kudermetova\" title=\"Veronika Kudermetova\">Veronika Kudermetova</a> </td> <td class=\"rankings__cell rankings__cell--player\"> <div class=\"player-headshot player-headshot--closeup rankings__player-picture u-observed has-placeholder\" data-init-when-visible=\"true\" data-object-fit=\"true\" data-observable-id=\"player-headshot_1707247617863_0.3171377883324451\" data-picture-in-view=\"false\" data-player=\"319526\" data-size=\"RANKINGS\" data-widget=\"player-headshot\"> </div> <div class=\"player-name\"> <div class=\"player-name__container\"> <span class=\"player-name__names\"> <span class=\"player-name__first-name\">Veronika</span> <span class=\"player-name__last-name\">Kudermetova</span> </span> <div class=\"player-name__meta\"> <div class=\"player-name__country-container player-name__country-container--RUS u-show-tablet\"> <img alt=\"RUS\" aria-hidden=\"true\" class=\"flag rankings__flag rankings__flag--RUS\" src=\"//www.wtatennis.com/resources/v3.83.0/i/elements/flags/rus.svg\"/> <span class=\"rankings__country rankings__country--RUS\">RUS</span> </div> </div> </div> </div> <a class=\"rankings__player-link\" href=\"//www.wtatennis.com/players/319526/veronika-kudermetova\" title=\"Veronika Kudermetova\">Veronika Kudermetova</a> </td> <td class=\"rankings__cell rankings__cell--RUS u-hide-tablet\"> <img alt=\"RUS\" aria-hidden=\"true\" class=\"flag rankings__flag rankings__flag--RUS\" src=\"//www.wtatennis.com/resources/v3.83.0/i/elements/flags/rus.svg\"/> <span class=\"rankings__country rankings__country--RUS\">RUS</span> </td> <td class=\"rankings__cell rankings__cell--age\">26</td> <td class=\"rankings__cell rankings__cell--tournaments\">25</td> <td class=\"rankings__cell rankings__cell--points\">2495</td> </tr>,\n",
       " <tr class=\"rankings__row\"> <td class=\"rankings__cell\"> <span class=\"rankings__rank\">17</span> <span class=\"rankings__movement rankings__movement--none\"> - </span> <a aria-label=\"Madison Keys\" class=\"rankings__player-link rankings__player-link--chrome\" href=\"//www.wtatennis.com/players/316959/madison-keys\" title=\"Madison Keys\">Madison Keys</a> </td> <td class=\"rankings__cell rankings__cell--player\"> <div class=\"player-headshot player-headshot--closeup rankings__player-picture u-observed has-placeholder\" data-init-when-visible=\"true\" data-object-fit=\"true\" data-observable-id=\"player-headshot_1707247617863_0.41059775687737\" data-picture-in-view=\"false\" data-player=\"316959\" data-size=\"RANKINGS\" data-widget=\"player-headshot\"> </div> <div class=\"player-name\"> <div class=\"player-name__container\"> <span class=\"player-name__names\"> <span class=\"player-name__first-name\">Madison</span> <span class=\"player-name__last-name\">Keys</span> </span> <div class=\"player-name__meta\"> <a class=\"player-name__top-court-link\" href=\"https://www.topcourt.com/n/WTATour\" target=\"_blank\"> <svg class=\"icon player-name__top-court-icon\" height=\"227px\" version=\"1.1\" viewbox=\"0 0 105 227\" width=\"105px\" xmlns=\"http://www.w3.org/2000/svg\" xmlns:xlink=\"http://www.w3.org/1999/xlink\"> <defs> <lineargradient id=\"linearGradient1\" x1=\"35.5265854%\" x2=\"64.4739123%\" y1=\"14.7414368%\" y2=\"85.2561382%\"> <stop offset=\"0%\" stop-color=\"#F3E583\"></stop> <stop offset=\"100%\" stop-color=\"#B0822F\"></stop> </lineargradient> </defs> <g fill=\"none\" fill-rule=\"evenodd\" id=\"Page-1\" stroke=\"none\" stroke-width=\"1\"> <g id=\"Artboard\" transform=\"translate(-158.000000, -97.000000)\"> <g id=\"Layer_3\" transform=\"translate(159.000000, 98.000000)\"> <rect height=\"224.3625\" id=\"Rectangle\" stroke=\"#E2CC72\" stroke-width=\"2\" width=\"102.141216\" x=\"0.277765433\" y=\"0.269189189\"></rect> <rect fill=\"url(#linearGradient1)\" fill-rule=\"nonzero\" height=\"207.302027\" id=\"Rectangle\" width=\"85.0757758\" x=\"9.04619596\" y=\"9.03506757\"></rect> </g> </g> </g> </svg> </a> <div class=\"player-name__country-container player-name__country-container--USA u-show-tablet\"> <img alt=\"USA\" aria-hidden=\"true\" class=\"flag rankings__flag rankings__flag--USA\" src=\"//www.wtatennis.com/resources/v3.83.0/i/elements/flags/usa.svg\"/> <span class=\"rankings__country rankings__country--USA\">USA</span> </div> </div> </div> </div> <a class=\"rankings__player-link\" href=\"//www.wtatennis.com/players/316959/madison-keys\" title=\"Madison Keys\">Madison Keys</a> </td> <td class=\"rankings__cell rankings__cell--USA u-hide-tablet\"> <img alt=\"USA\" aria-hidden=\"true\" class=\"flag rankings__flag rankings__flag--USA\" src=\"//www.wtatennis.com/resources/v3.83.0/i/elements/flags/usa.svg\"/> <span class=\"rankings__country rankings__country--USA\">USA</span> </td> <td class=\"rankings__cell rankings__cell--age\">28</td> <td class=\"rankings__cell rankings__cell--tournaments\">17</td> <td class=\"rankings__cell rankings__cell--points\">2478</td> </tr>,\n",
       " <tr class=\"rankings__row\"> <td class=\"rankings__cell\"> <span class=\"rankings__rank\">18</span> <span class=\"rankings__movement rankings__movement--none\"> - </span> <a aria-label=\"Petra Kvitova\" class=\"rankings__player-link rankings__player-link--chrome\" href=\"//www.wtatennis.com/players/314206/petra-kvitova\" title=\"Petra Kvitova\">Petra Kvitova</a> </td> <td class=\"rankings__cell rankings__cell--player\"> <div class=\"player-headshot player-headshot--closeup rankings__player-picture u-observed has-placeholder\" data-init-when-visible=\"true\" data-object-fit=\"true\" data-observable-id=\"player-headshot_1707247617863_0.7420067218029471\" data-picture-in-view=\"false\" data-player=\"314206\" data-size=\"RANKINGS\" data-widget=\"player-headshot\"> </div> <div class=\"player-name\"> <div class=\"player-name__container\"> <span class=\"player-name__names\"> <span class=\"player-name__first-name\">Petra</span> <span class=\"player-name__last-name\">Kvitova</span> </span> <div class=\"player-name__meta\"> <a class=\"player-name__top-court-link\" href=\"https://www.topcourt.com/n/WTATour\" target=\"_blank\"> <svg class=\"icon player-name__top-court-icon\" height=\"227px\" version=\"1.1\" viewbox=\"0 0 105 227\" width=\"105px\" xmlns=\"http://www.w3.org/2000/svg\" xmlns:xlink=\"http://www.w3.org/1999/xlink\"> <defs> <lineargradient id=\"linearGradient1\" x1=\"35.5265854%\" x2=\"64.4739123%\" y1=\"14.7414368%\" y2=\"85.2561382%\"> <stop offset=\"0%\" stop-color=\"#F3E583\"></stop> <stop offset=\"100%\" stop-color=\"#B0822F\"></stop> </lineargradient> </defs> <g fill=\"none\" fill-rule=\"evenodd\" id=\"Page-1\" stroke=\"none\" stroke-width=\"1\"> <g id=\"Artboard\" transform=\"translate(-158.000000, -97.000000)\"> <g id=\"Layer_3\" transform=\"translate(159.000000, 98.000000)\"> <rect height=\"224.3625\" id=\"Rectangle\" stroke=\"#E2CC72\" stroke-width=\"2\" width=\"102.141216\" x=\"0.277765433\" y=\"0.269189189\"></rect> <rect fill=\"url(#linearGradient1)\" fill-rule=\"nonzero\" height=\"207.302027\" id=\"Rectangle\" width=\"85.0757758\" x=\"9.04619596\" y=\"9.03506757\"></rect> </g> </g> </g> </svg> </a> <div class=\"player-name__country-container player-name__country-container--CZE u-show-tablet\"> <img alt=\"CZE\" aria-hidden=\"true\" class=\"flag rankings__flag rankings__flag--CZE\" src=\"//www.wtatennis.com/resources/v3.83.0/i/elements/flags/cze.svg\"/> <span class=\"rankings__country rankings__country--CZE\">CZE</span> </div> </div> </div> </div> <a class=\"rankings__player-link\" href=\"//www.wtatennis.com/players/314206/petra-kvitova\" title=\"Petra Kvitova\">Petra Kvitova</a> </td> <td class=\"rankings__cell rankings__cell--CZE u-hide-tablet\"> <img alt=\"CZE\" aria-hidden=\"true\" class=\"flag rankings__flag rankings__flag--CZE\" src=\"//www.wtatennis.com/resources/v3.83.0/i/elements/flags/cze.svg\"/> <span class=\"rankings__country rankings__country--CZE\">CZE</span> </td> <td class=\"rankings__cell rankings__cell--age\">33</td> <td class=\"rankings__cell rankings__cell--tournaments\">15</td> <td class=\"rankings__cell rankings__cell--points\">2465</td> </tr>,\n",
       " <tr class=\"rankings__row\"> <td class=\"rankings__cell\"> <span class=\"rankings__rank\">19</span> <span class=\"rankings__movement rankings__movement--up\"> 2 </span> <a aria-label=\"Ekaterina Alexandrova\" class=\"rankings__player-link rankings__player-link--chrome\" href=\"//www.wtatennis.com/players/319007/ekaterina-alexandrova\" title=\"Ekaterina Alexandrova\">Ekaterina Alexandrova</a> </td> <td class=\"rankings__cell rankings__cell--player\"> <div class=\"player-headshot player-headshot--closeup rankings__player-picture u-observed has-placeholder\" data-init-when-visible=\"true\" data-object-fit=\"true\" data-observable-id=\"player-headshot_1707247617863_0.4324371490448682\" data-picture-in-view=\"false\" data-player=\"319007\" data-size=\"RANKINGS\" data-widget=\"player-headshot\"> </div> <div class=\"player-name\"> <div class=\"player-name__container\"> <span class=\"player-name__names\"> <span class=\"player-name__first-name\">Ekaterina</span> <span class=\"player-name__last-name\">Alexandrova</span> </span> <div class=\"player-name__meta\"> <div class=\"player-name__country-container player-name__country-container--RUS u-show-tablet\"> <img alt=\"RUS\" aria-hidden=\"true\" class=\"flag rankings__flag rankings__flag--RUS\" src=\"//www.wtatennis.com/resources/v3.83.0/i/elements/flags/rus.svg\"/> <span class=\"rankings__country rankings__country--RUS\">RUS</span> </div> </div> </div> </div> <a class=\"rankings__player-link\" href=\"//www.wtatennis.com/players/319007/ekaterina-alexandrova\" title=\"Ekaterina Alexandrova\">Ekaterina Alexandrova</a> </td> <td class=\"rankings__cell rankings__cell--RUS u-hide-tablet\"> <img alt=\"RUS\" aria-hidden=\"true\" class=\"flag rankings__flag rankings__flag--RUS\" src=\"//www.wtatennis.com/resources/v3.83.0/i/elements/flags/rus.svg\"/> <span class=\"rankings__country rankings__country--RUS\">RUS</span> </td> <td class=\"rankings__cell rankings__cell--age\">29</td> <td class=\"rankings__cell rankings__cell--tournaments\">25</td> <td class=\"rankings__cell rankings__cell--points\">2410</td> </tr>,\n",
       " <tr class=\"rankings__row\"> <td class=\"rankings__cell\"> <span class=\"rankings__rank\">20</span> <span class=\"rankings__movement rankings__movement--down\"> 1 </span> <a aria-label=\"Elina Svitolina\" class=\"rankings__player-link rankings__player-link--chrome\" href=\"//www.wtatennis.com/players/316738/elina-svitolina\" title=\"Elina Svitolina\">Elina Svitolina</a> </td> <td class=\"rankings__cell rankings__cell--player\"> <div class=\"player-headshot player-headshot--closeup rankings__player-picture u-observed has-placeholder\" data-init-when-visible=\"true\" data-object-fit=\"true\" data-observable-id=\"player-headshot_1707247617863_0.5722006863138862\" data-picture-in-view=\"false\" data-player=\"316738\" data-size=\"RANKINGS\" data-widget=\"player-headshot\"> </div> <div class=\"player-name\"> <div class=\"player-name__container\"> <span class=\"player-name__names\"> <span class=\"player-name__first-name\">Elina</span> <span class=\"player-name__last-name\">Svitolina</span> </span> <div class=\"player-name__meta\"> <a class=\"player-name__top-court-link\" href=\"https://www.topcourt.com/n/WTATour\" target=\"_blank\"> <svg class=\"icon player-name__top-court-icon\" height=\"227px\" version=\"1.1\" viewbox=\"0 0 105 227\" width=\"105px\" xmlns=\"http://www.w3.org/2000/svg\" xmlns:xlink=\"http://www.w3.org/1999/xlink\"> <defs> <lineargradient id=\"linearGradient1\" x1=\"35.5265854%\" x2=\"64.4739123%\" y1=\"14.7414368%\" y2=\"85.2561382%\"> <stop offset=\"0%\" stop-color=\"#F3E583\"></stop> <stop offset=\"100%\" stop-color=\"#B0822F\"></stop> </lineargradient> </defs> <g fill=\"none\" fill-rule=\"evenodd\" id=\"Page-1\" stroke=\"none\" stroke-width=\"1\"> <g id=\"Artboard\" transform=\"translate(-158.000000, -97.000000)\"> <g id=\"Layer_3\" transform=\"translate(159.000000, 98.000000)\"> <rect height=\"224.3625\" id=\"Rectangle\" stroke=\"#E2CC72\" stroke-width=\"2\" width=\"102.141216\" x=\"0.277765433\" y=\"0.269189189\"></rect> <rect fill=\"url(#linearGradient1)\" fill-rule=\"nonzero\" height=\"207.302027\" id=\"Rectangle\" width=\"85.0757758\" x=\"9.04619596\" y=\"9.03506757\"></rect> </g> </g> </g> </svg> </a> <div class=\"player-name__country-container player-name__country-container--UKR u-show-tablet\"> <img alt=\"UKR\" aria-hidden=\"true\" class=\"flag rankings__flag rankings__flag--UKR\" src=\"//www.wtatennis.com/resources/v3.83.0/i/elements/flags/ukr.svg\"/> <span class=\"rankings__country rankings__country--UKR\">UKR</span> </div> </div> </div> </div> <a class=\"rankings__player-link\" href=\"//www.wtatennis.com/players/316738/elina-svitolina\" title=\"Elina Svitolina\">Elina Svitolina</a> </td> <td class=\"rankings__cell rankings__cell--UKR u-hide-tablet\"> <img alt=\"UKR\" aria-hidden=\"true\" class=\"flag rankings__flag rankings__flag--UKR\" src=\"//www.wtatennis.com/resources/v3.83.0/i/elements/flags/ukr.svg\"/> <span class=\"rankings__country rankings__country--UKR\">UKR</span> </td> <td class=\"rankings__cell rankings__cell--age\">29</td> <td class=\"rankings__cell rankings__cell--tournaments\">15</td> <td class=\"rankings__cell rankings__cell--points\">2212</td> </tr>]"
      ]
     },
     "execution_count": 11,
     "metadata": {},
     "output_type": "execute_result"
    }
   ],
   "source": [
    "soup = BeautifulSoup(page_source, 'html.parser')\n",
    "rows = soup.body.find('tbody',class_='js-rankings-body').findAll('tr',class_='rankings__row')\n",
    "rows"
   ]
  },
  {
   "cell_type": "code",
   "execution_count": 7,
   "metadata": {},
   "outputs": [
    {
     "name": "stdout",
     "output_type": "stream",
     "text": [
      "<Response [403]>\n",
      "Failed to fetch rankings\n"
     ]
    }
   ],
   "source": [
    "\n",
    "def fetch_rankings(date):\n",
    "    url = 'https://www.wtatennis.com/rankings/singles'\n",
    "    \n",
    "    # Construct the payload with the date parameters\n",
    "    payload = {\n",
    "        'data-date': date,\n",
    "    }\n",
    "\n",
    "    response = rq.post(url, data=payload)\n",
    "\n",
    "    print(response)\n",
    "\n",
    "    if response.status_code == 200:\n",
    "        content_type = response.headers.get('Content-Type')\n",
    "        print(f\"Content-Type: {content_type}\")\n",
    "\n",
    "        # Process the response based on its content type\n",
    "        if 'json' in content_type.lower():\n",
    "            rankings_data = response.json()\n",
    "            # Process JSON data\n",
    "            print(rankings_data)\n",
    "        elif 'html' in content_type.lower():\n",
    "            rankings_html = response.text\n",
    "            # Process HTML data\n",
    "            print(rankings_html)\n",
    "        else:\n",
    "            print(\"Unknown content type. Handle accordingly.\")\n",
    "    else:\n",
    "        print('Failed to fetch rankings')\n",
    "\n",
    "# Example usage: Fetch rankings for different date ranges\n",
    "start_date = '2023-12-01'  # Replace with your desired start date\n",
    "\n",
    "rankings_data = fetch_rankings(start_date)\n",
    "if rankings_data:\n",
    "    # Process and use the retrieved rankings data as needed\n",
    "    print(rankings_data)"
   ]
  },
  {
   "cell_type": "code",
   "execution_count": null,
   "metadata": {},
   "outputs": [],
   "source": []
  },
  {
   "attachments": {},
   "cell_type": "markdown",
   "metadata": {},
   "source": [
    "PDF to csv?"
   ]
  },
  {
   "cell_type": "code",
   "execution_count": 9,
   "metadata": {},
   "outputs": [
    {
     "name": "stdout",
     "output_type": "stream",
     "text": [
      "Collecting tabula-py\n",
      "  Downloading tabula_py-2.9.0-py3-none-any.whl.metadata (7.5 kB)\n",
      "Requirement already satisfied: pandas>=0.25.3 in /Library/Frameworks/Python.framework/Versions/3.11/lib/python3.11/site-packages (from tabula-py) (2.1.4)\n",
      "Requirement already satisfied: numpy in /Library/Frameworks/Python.framework/Versions/3.11/lib/python3.11/site-packages (from tabula-py) (1.26.3)\n",
      "Collecting distro (from tabula-py)\n",
      "  Downloading distro-1.9.0-py3-none-any.whl.metadata (6.8 kB)\n",
      "Requirement already satisfied: python-dateutil>=2.8.2 in /Users/avascharfstein/Library/Python/3.11/lib/python/site-packages (from pandas>=0.25.3->tabula-py) (2.8.2)\n",
      "Requirement already satisfied: pytz>=2020.1 in /Library/Frameworks/Python.framework/Versions/3.11/lib/python3.11/site-packages (from pandas>=0.25.3->tabula-py) (2023.3.post1)\n",
      "Requirement already satisfied: tzdata>=2022.1 in /Library/Frameworks/Python.framework/Versions/3.11/lib/python3.11/site-packages (from pandas>=0.25.3->tabula-py) (2023.4)\n",
      "Requirement already satisfied: six>=1.5 in /Users/avascharfstein/Library/Python/3.11/lib/python/site-packages (from python-dateutil>=2.8.2->pandas>=0.25.3->tabula-py) (1.16.0)\n",
      "Downloading tabula_py-2.9.0-py3-none-any.whl (12.0 MB)\n",
      "\u001b[2K   \u001b[90m━━━━━━━━━━━━━━━━━━━━━━━━━━━━━━━━━━━━━━━━\u001b[0m \u001b[32m12.0/12.0 MB\u001b[0m \u001b[31m6.0 MB/s\u001b[0m eta \u001b[36m0:00:00\u001b[0m00:01\u001b[0m00:01\u001b[0m\n",
      "\u001b[?25hDownloading distro-1.9.0-py3-none-any.whl (20 kB)\n",
      "Installing collected packages: distro, tabula-py\n",
      "Successfully installed distro-1.9.0 tabula-py-2.9.0\n",
      "Note: you may need to restart the kernel to use updated packages.\n"
     ]
    }
   ],
   "source": [
    "#pip install tabula-py"
   ]
  },
  {
   "cell_type": "code",
   "execution_count": null,
   "metadata": {},
   "outputs": [],
   "source": [
    "import tabula"
   ]
  },
  {
   "cell_type": "code",
   "execution_count": 14,
   "metadata": {},
   "outputs": [],
   "source": [
    "tabula.convert_into(\"data/practice_data_singles.pdf\", \"data/practice_data.csv\", pages= \"all\", output_format= \"csv\")"
   ]
  },
  {
   "cell_type": "code",
   "execution_count": 17,
   "metadata": {},
   "outputs": [
    {
     "ename": "ParserError",
     "evalue": "Error tokenizing data. C error: Expected 11 fields in line 205, saw 12\n",
     "output_type": "error",
     "traceback": [
      "\u001b[0;31m---------------------------------------------------------------------------\u001b[0m",
      "\u001b[0;31mParserError\u001b[0m                               Traceback (most recent call last)",
      "Cell \u001b[0;32mIn[17], line 2\u001b[0m\n\u001b[1;32m      1\u001b[0m \u001b[39mimport\u001b[39;00m \u001b[39mpandas\u001b[39;00m \u001b[39mas\u001b[39;00m \u001b[39mpd\u001b[39;00m\n\u001b[0;32m----> 2\u001b[0m df \u001b[39m=\u001b[39m pd\u001b[39m.\u001b[39;49mread_csv(\u001b[39m\"\u001b[39;49m\u001b[39mdata/practice_data.csv\u001b[39;49m\u001b[39m\"\u001b[39;49m)\n",
      "File \u001b[0;32m/Library/Frameworks/Python.framework/Versions/3.11/lib/python3.11/site-packages/pandas/io/parsers/readers.py:948\u001b[0m, in \u001b[0;36mread_csv\u001b[0;34m(filepath_or_buffer, sep, delimiter, header, names, index_col, usecols, dtype, engine, converters, true_values, false_values, skipinitialspace, skiprows, skipfooter, nrows, na_values, keep_default_na, na_filter, verbose, skip_blank_lines, parse_dates, infer_datetime_format, keep_date_col, date_parser, date_format, dayfirst, cache_dates, iterator, chunksize, compression, thousands, decimal, lineterminator, quotechar, quoting, doublequote, escapechar, comment, encoding, encoding_errors, dialect, on_bad_lines, delim_whitespace, low_memory, memory_map, float_precision, storage_options, dtype_backend)\u001b[0m\n\u001b[1;32m    935\u001b[0m kwds_defaults \u001b[39m=\u001b[39m _refine_defaults_read(\n\u001b[1;32m    936\u001b[0m     dialect,\n\u001b[1;32m    937\u001b[0m     delimiter,\n\u001b[0;32m   (...)\u001b[0m\n\u001b[1;32m    944\u001b[0m     dtype_backend\u001b[39m=\u001b[39mdtype_backend,\n\u001b[1;32m    945\u001b[0m )\n\u001b[1;32m    946\u001b[0m kwds\u001b[39m.\u001b[39mupdate(kwds_defaults)\n\u001b[0;32m--> 948\u001b[0m \u001b[39mreturn\u001b[39;00m _read(filepath_or_buffer, kwds)\n",
      "File \u001b[0;32m/Library/Frameworks/Python.framework/Versions/3.11/lib/python3.11/site-packages/pandas/io/parsers/readers.py:617\u001b[0m, in \u001b[0;36m_read\u001b[0;34m(filepath_or_buffer, kwds)\u001b[0m\n\u001b[1;32m    614\u001b[0m     \u001b[39mreturn\u001b[39;00m parser\n\u001b[1;32m    616\u001b[0m \u001b[39mwith\u001b[39;00m parser:\n\u001b[0;32m--> 617\u001b[0m     \u001b[39mreturn\u001b[39;00m parser\u001b[39m.\u001b[39;49mread(nrows)\n",
      "File \u001b[0;32m/Library/Frameworks/Python.framework/Versions/3.11/lib/python3.11/site-packages/pandas/io/parsers/readers.py:1748\u001b[0m, in \u001b[0;36mTextFileReader.read\u001b[0;34m(self, nrows)\u001b[0m\n\u001b[1;32m   1741\u001b[0m nrows \u001b[39m=\u001b[39m validate_integer(\u001b[39m\"\u001b[39m\u001b[39mnrows\u001b[39m\u001b[39m\"\u001b[39m, nrows)\n\u001b[1;32m   1742\u001b[0m \u001b[39mtry\u001b[39;00m:\n\u001b[1;32m   1743\u001b[0m     \u001b[39m# error: \"ParserBase\" has no attribute \"read\"\u001b[39;00m\n\u001b[1;32m   1744\u001b[0m     (\n\u001b[1;32m   1745\u001b[0m         index,\n\u001b[1;32m   1746\u001b[0m         columns,\n\u001b[1;32m   1747\u001b[0m         col_dict,\n\u001b[0;32m-> 1748\u001b[0m     ) \u001b[39m=\u001b[39m \u001b[39mself\u001b[39;49m\u001b[39m.\u001b[39;49m_engine\u001b[39m.\u001b[39;49mread(  \u001b[39m# type: ignore[attr-defined]\u001b[39;49;00m\n\u001b[1;32m   1749\u001b[0m         nrows\n\u001b[1;32m   1750\u001b[0m     )\n\u001b[1;32m   1751\u001b[0m \u001b[39mexcept\u001b[39;00m \u001b[39mException\u001b[39;00m:\n\u001b[1;32m   1752\u001b[0m     \u001b[39mself\u001b[39m\u001b[39m.\u001b[39mclose()\n",
      "File \u001b[0;32m/Library/Frameworks/Python.framework/Versions/3.11/lib/python3.11/site-packages/pandas/io/parsers/c_parser_wrapper.py:234\u001b[0m, in \u001b[0;36mCParserWrapper.read\u001b[0;34m(self, nrows)\u001b[0m\n\u001b[1;32m    232\u001b[0m \u001b[39mtry\u001b[39;00m:\n\u001b[1;32m    233\u001b[0m     \u001b[39mif\u001b[39;00m \u001b[39mself\u001b[39m\u001b[39m.\u001b[39mlow_memory:\n\u001b[0;32m--> 234\u001b[0m         chunks \u001b[39m=\u001b[39m \u001b[39mself\u001b[39;49m\u001b[39m.\u001b[39;49m_reader\u001b[39m.\u001b[39;49mread_low_memory(nrows)\n\u001b[1;32m    235\u001b[0m         \u001b[39m# destructive to chunks\u001b[39;00m\n\u001b[1;32m    236\u001b[0m         data \u001b[39m=\u001b[39m _concatenate_chunks(chunks)\n",
      "File \u001b[0;32mparsers.pyx:843\u001b[0m, in \u001b[0;36mpandas._libs.parsers.TextReader.read_low_memory\u001b[0;34m()\u001b[0m\n",
      "File \u001b[0;32mparsers.pyx:904\u001b[0m, in \u001b[0;36mpandas._libs.parsers.TextReader._read_rows\u001b[0;34m()\u001b[0m\n",
      "File \u001b[0;32mparsers.pyx:879\u001b[0m, in \u001b[0;36mpandas._libs.parsers.TextReader._tokenize_rows\u001b[0;34m()\u001b[0m\n",
      "File \u001b[0;32mparsers.pyx:890\u001b[0m, in \u001b[0;36mpandas._libs.parsers.TextReader._check_tokenize_status\u001b[0;34m()\u001b[0m\n",
      "File \u001b[0;32mparsers.pyx:2058\u001b[0m, in \u001b[0;36mpandas._libs.parsers.raise_parser_error\u001b[0;34m()\u001b[0m\n",
      "\u001b[0;31mParserError\u001b[0m: Error tokenizing data. C error: Expected 11 fields in line 205, saw 12\n"
     ]
    }
   ],
   "source": [
    "import pandas as pd\n",
    "df = pd.read_csv(\"data/practice_data.csv\")"
   ]
  },
  {
   "attachments": {},
   "cell_type": "markdown",
   "metadata": {},
   "source": [
    "Trying a new website for womens ranking extraction"
   ]
  },
  {
   "cell_type": "code",
   "execution_count": 32,
   "metadata": {},
   "outputs": [],
   "source": [
    "tourney_date_dict = {'2023-06-26': '2023-06-26', '2023-05-22': '2023-05-22', '2024-01-01': '2024-01-07', '2023-08-21': '2023-08-22'}"
   ]
  },
  {
   "cell_type": "code",
   "execution_count": 44,
   "metadata": {},
   "outputs": [
    {
     "name": "stdout",
     "output_type": "stream",
     "text": [
      "2023-06-26 ( 2023-06-26 ) ATP rankings extracted\n",
      "2023-05-22 ( 2023-05-22 ) ATP rankings extracted\n",
      "2024-01-01 ( 2024-01-07 ) ATP rankings extracted\n",
      "2023-08-21 ( 2023-08-22 ) ATP rankings extracted\n"
     ]
    }
   ],
   "source": [
    "wta_ranks = []\n",
    "for week in list(tourney_date_dict.keys()):\n",
    "    player_ranks = {}\n",
    "    url = \"https://www.tennisexplorer.com/ranking/wta-women/?date=\"+week\n",
    "    for p in range(1,29):\n",
    "        url_p = url+\"&page=\"+str(p)\n",
    "        page = rq.get(url_p)\n",
    "        content = page.content\n",
    "        soup = BeautifulSoup(content)\n",
    "        rows = soup.body.find('tbody', class_='flags').findAll('tr')\n",
    "        for row in rows:\n",
    "            rank = row.find('td', class_ = 'rank first').text.strip()\n",
    "            rank_numeric = float(rank.replace('.', ''))\n",
    "            name = row.find('td', class_ = 't-name').text.strip()\n",
    "            #country = row.find('td', class_=\"tl\").a.text.strip()\n",
    "            player_ranks[name] = rank_numeric\n",
    "\n",
    "    week_ranks = pd.DataFrame(list(player_ranks.items()), columns = ['player','rank'])\n",
    "    week_ranks['week'] = tourney_date_dict[week]\n",
    "    print(week,\"(\",tourney_date_dict[week], \")\",\"ATP rankings extracted\")\n",
    "\n",
    "    wta_ranks.append(week_ranks)\n"
   ]
  },
  {
   "cell_type": "code",
   "execution_count": 46,
   "metadata": {},
   "outputs": [
    {
     "data": {
      "text/html": [
       "<div>\n",
       "<style scoped>\n",
       "    .dataframe tbody tr th:only-of-type {\n",
       "        vertical-align: middle;\n",
       "    }\n",
       "\n",
       "    .dataframe tbody tr th {\n",
       "        vertical-align: top;\n",
       "    }\n",
       "\n",
       "    .dataframe thead th {\n",
       "        text-align: right;\n",
       "    }\n",
       "</style>\n",
       "<table border=\"1\" class=\"dataframe\">\n",
       "  <thead>\n",
       "    <tr style=\"text-align: right;\">\n",
       "      <th></th>\n",
       "      <th>player</th>\n",
       "      <th>rank</th>\n",
       "      <th>week</th>\n",
       "    </tr>\n",
       "  </thead>\n",
       "  <tbody>\n",
       "    <tr>\n",
       "      <th>0</th>\n",
       "      <td>Swiatek Iga</td>\n",
       "      <td>1.0</td>\n",
       "      <td>2023-06-26</td>\n",
       "    </tr>\n",
       "    <tr>\n",
       "      <th>1</th>\n",
       "      <td>Sabalenka Aryna</td>\n",
       "      <td>2.0</td>\n",
       "      <td>2023-06-26</td>\n",
       "    </tr>\n",
       "    <tr>\n",
       "      <th>2</th>\n",
       "      <td>Rybakina Elena</td>\n",
       "      <td>3.0</td>\n",
       "      <td>2023-06-26</td>\n",
       "    </tr>\n",
       "    <tr>\n",
       "      <th>3</th>\n",
       "      <td>Pegula Jessica</td>\n",
       "      <td>4.0</td>\n",
       "      <td>2023-06-26</td>\n",
       "    </tr>\n",
       "    <tr>\n",
       "      <th>4</th>\n",
       "      <td>Garcia Caroline</td>\n",
       "      <td>5.0</td>\n",
       "      <td>2023-06-26</td>\n",
       "    </tr>\n",
       "    <tr>\n",
       "      <th>...</th>\n",
       "      <td>...</td>\n",
       "      <td>...</td>\n",
       "      <td>...</td>\n",
       "    </tr>\n",
       "    <tr>\n",
       "      <th>1395</th>\n",
       "      <td>Faltinger Ines</td>\n",
       "      <td>1390.0</td>\n",
       "      <td>2023-08-22</td>\n",
       "    </tr>\n",
       "    <tr>\n",
       "      <th>1396</th>\n",
       "      <td>Goldsmith Weinreich Paloma</td>\n",
       "      <td>1390.0</td>\n",
       "      <td>2023-08-22</td>\n",
       "    </tr>\n",
       "    <tr>\n",
       "      <th>1397</th>\n",
       "      <td>Ionescu Iulia Andreea</td>\n",
       "      <td>1390.0</td>\n",
       "      <td>2023-08-22</td>\n",
       "    </tr>\n",
       "    <tr>\n",
       "      <th>1398</th>\n",
       "      <td>Joint Maya</td>\n",
       "      <td>1390.0</td>\n",
       "      <td>2023-08-22</td>\n",
       "    </tr>\n",
       "    <tr>\n",
       "      <th>1399</th>\n",
       "      <td>Kim Haram</td>\n",
       "      <td>1390.0</td>\n",
       "      <td>2023-08-22</td>\n",
       "    </tr>\n",
       "  </tbody>\n",
       "</table>\n",
       "<p>5516 rows × 3 columns</p>\n",
       "</div>"
      ],
      "text/plain": [
       "                          player    rank        week\n",
       "0                    Swiatek Iga     1.0  2023-06-26\n",
       "1                Sabalenka Aryna     2.0  2023-06-26\n",
       "2                 Rybakina Elena     3.0  2023-06-26\n",
       "3                 Pegula Jessica     4.0  2023-06-26\n",
       "4                Garcia Caroline     5.0  2023-06-26\n",
       "...                          ...     ...         ...\n",
       "1395              Faltinger Ines  1390.0  2023-08-22\n",
       "1396  Goldsmith Weinreich Paloma  1390.0  2023-08-22\n",
       "1397       Ionescu Iulia Andreea  1390.0  2023-08-22\n",
       "1398                  Joint Maya  1390.0  2023-08-22\n",
       "1399                   Kim Haram  1390.0  2023-08-22\n",
       "\n",
       "[5516 rows x 3 columns]"
      ]
     },
     "execution_count": 46,
     "metadata": {},
     "output_type": "execute_result"
    }
   ],
   "source": [
    "wta_ranks = pd.concat(wta_ranks)\n",
    "wta_ranks"
   ]
  },
  {
   "cell_type": "code",
   "execution_count": 52,
   "metadata": {},
   "outputs": [],
   "source": [
    "wta_ranks.to_csv(\"data/wta_ranks.csv\", index=False)"
   ]
  }
 ],
 "metadata": {
  "kernelspec": {
   "display_name": "Python 3",
   "language": "python",
   "name": "python3"
  },
  "language_info": {
   "codemirror_mode": {
    "name": "ipython",
    "version": 3
   },
   "file_extension": ".py",
   "mimetype": "text/x-python",
   "name": "python",
   "nbconvert_exporter": "python",
   "pygments_lexer": "ipython3",
   "version": "3.11.6"
  },
  "orig_nbformat": 4
 },
 "nbformat": 4,
 "nbformat_minor": 2
}
