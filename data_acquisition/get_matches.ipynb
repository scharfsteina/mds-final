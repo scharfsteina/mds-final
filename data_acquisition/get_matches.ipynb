{
 "cells": [
  {
   "attachments": {},
   "cell_type": "markdown",
   "metadata": {},
   "source": [
    "Tournament keys -- had to lookup online @ https://coverage-matrix.sportradar.com/\n",
    "\n",
    "Wimbledon \n",
    "- MS: sr:competition:2555\n",
    "- WS: sr:competition:2559\n",
    "\n",
    "\n",
    "French\n",
    "- MS: sr:competition:2579\n",
    "- WS: sr:competition:2583\n",
    "\n",
    "\n",
    "Australian\n",
    "- MS: sr:competition:2567\n",
    "- WS: sr:competition:2571\n",
    "\n",
    "\n",
    "US\n",
    "- MS: sr:competition:2591\t\n",
    "- WS: sr:competition:2595\t"
   ]
  },
  {
   "cell_type": "code",
   "execution_count": 1,
   "metadata": {},
   "outputs": [],
   "source": [
    "# Import packages\n",
    "import http.client\n",
    "import json\n",
    "import pandas as pd\n",
    "from datetime import datetime\n",
    "import numpy as np\n",
    "import time\n",
    "import pickle"
   ]
  },
  {
   "cell_type": "code",
   "execution_count": 2,
   "metadata": {},
   "outputs": [],
   "source": [
    "# Api keys\n",
    "eda_api_key = \"thp5rpgrbegb8hkc7zrapy36\"\n",
    "mds_api_key = \"fqe4f9fyp8m84mg679xu7dnj\"\n",
    "\n",
    "# Variable to count api calls\n",
    "global CALLS\n",
    "CALLS = 0\n",
    "\n",
    "# Make an API call given get, return a json object\n",
    "def send_req(get, func):\n",
    "    global CALLS\n",
    "    # Connect to SR API\n",
    "    conn = http.client.HTTPSConnection(\"api.sportradar.com\")\n",
    "    conn.request(\"GET\", get)\n",
    "    with conn.getresponse() as res:\n",
    "        # Check if the response status is OK (200)\n",
    "        if res.status == 200:\n",
    "            data = res.read().decode(\"utf-8\")\n",
    "            \n",
    "            # Check if data is not empty before decoding\n",
    "            if data:\n",
    "                CALLS += 1\n",
    "                return json.loads(data)\n",
    "            else:\n",
    "                print(\"Error: Empty response data: \" + func)\n",
    "                return None\n",
    "        else:\n",
    "            print(f\"Error: Failed request with status code {res.status}: {res.read().decode()}:\" + func)\n",
    "            return None\n",
    "\n",
    "# Display json object neatly\n",
    "def pp(json_obj):\n",
    "    print(json.dumps(json_obj, indent=4))\n",
    "\n",
    "# Grandslam competition codes for API\n",
    "M_GRAND_SLAMS = {\"sr:competition:2555\":\"2023\",\"sr:competition:2579\":\"2023\",\"sr:competition:2567\":\"2024\", \"sr:competition:2591\":\"2023\"} # grandslams and their most current year\n",
    "W_GRAND_SLAMS = {\"sr:competition:2559\":\"2023\",\"sr:competition:2583\":\"2023\",\"sr:competition:2571\":\"2024\",\"sr:competition:2595\":\"2023\"}\n",
    "\n",
    "# temp competition variable (Wimbledon)\n",
    "#competition = M_GRAND_SLAMS.keys()[0]"
   ]
  },
  {
   "cell_type": "code",
   "execution_count": 3,
   "metadata": {},
   "outputs": [],
   "source": [
    "# Get json object of the seasons (returns the top 3) related to the competition (tourney)\n",
    "def get_competition_seasons(comp):\n",
    "    func = \"get_competition_seasons\"\n",
    "    json = send_req(\"/tennis/trial/v3/en/competitions/\"+comp+\"/seasons.json?api_key=\"+eda_api_key, func)\n",
    "    if json != None:\n",
    "        return json['seasons']\n",
    "    else: return None"
   ]
  },
  {
   "cell_type": "code",
   "execution_count": 4,
   "metadata": {},
   "outputs": [],
   "source": [
    "# Get the season ids and add to a list\n",
    "# note that 2024 seasons have not happened yet so they're empty\n",
    "# Theyre ordered chronologically\n",
    "def return_seasons(seasons_json, comp_dict):\n",
    "    # Create a dictionary of season ids and their years\n",
    "    seasons = {} \n",
    "    if seasons_json==None:\n",
    "        return seasons\n",
    "    for sj in seasons_json:\n",
    "        recent_year = comp_dict[sj['competition_id']]\n",
    "        if sj['year']==recent_year: # only the most recent season has the pbp and enhanced stats\n",
    "            seasons[sj['id']] = sj['name']\n",
    "    return seasons"
   ]
  },
  {
   "cell_type": "code",
   "execution_count": 5,
   "metadata": {},
   "outputs": [],
   "source": [
    "# Gets information about every match in the season (tournament)\n",
    "def get_summary(sea, start=0):\n",
    "    func = \"get_summary\"\n",
    "    get = \"/tennis/trial/v3/en/seasons/\"+sea+\"/summaries.json?api_key=\"+eda_api_key+\"&start=\"+str(start)\n",
    "    return send_req(get, func)"
   ]
  },
  {
   "cell_type": "code",
   "execution_count": 6,
   "metadata": {},
   "outputs": [],
   "source": [
    "# Seeing which matches (after the qualifiers - commented out) have play by play stats\n",
    "def list_of_pbps(summary):\n",
    "    pbps = []\n",
    "    if summary == None:\n",
    "        return pbps\n",
    "    for match in summary[\"summaries\"]:\n",
    "        #round = match['sport_event']['sport_event_context']['round']['name']\n",
    "        # if round in ['round_of_64','round_of_32','round_of_16','semifinal','final',]: \n",
    "        props = match[\"sport_event\"]['coverage']['sport_event_properties']\n",
    "        if props['enhanced_stats'] and props['play_by_play']:\n",
    "            pbps.append(match[\"sport_event\"][\"id\"])\n",
    "    return pbps"
   ]
  },
  {
   "cell_type": "code",
   "execution_count": 7,
   "metadata": {},
   "outputs": [],
   "source": [
    "\n",
    "def matches_from_comp(competitions):\n",
    "    # Given a competition, return a list of matches that have play by play\n",
    "    matches = []\n",
    "\n",
    "    for comp in competitions:\n",
    "        time.sleep(2)\n",
    "        seasons_json = get_competition_seasons(comp)\n",
    "        time.sleep(2)\n",
    "        seasons = return_seasons(seasons_json, competitions)\n",
    "        for sea in list(seasons.keys()): # this isn't actually a list but it's fine\n",
    "            print(sea)\n",
    "            start = 0\n",
    "            pbps = []\n",
    "            # makes sure we get all of the matches in a tournament, query to multiple summary pages if possible\n",
    "            while True:\n",
    "                time.sleep(2)\n",
    "                summary = get_summary(sea, start)\n",
    "                if not summary or not summary['summaries']:  # break loop if empty\n",
    "                    break\n",
    "                pbps += list_of_pbps(summary)\n",
    "                start += 200\n",
    "            print(\"appending \"+str(len(pbps))+\" to matches\")\n",
    "            matches.append(pbps)\n",
    "\n",
    "    print(CALLS)\n",
    "    return matches\n",
    "    "
   ]
  },
  {
   "cell_type": "code",
   "execution_count": null,
   "metadata": {},
   "outputs": [
    {
     "name": "stdout",
     "output_type": "stream",
     "text": [
      "127\n",
      "127\n",
      "127\n",
      "127\n"
     ]
    }
   ],
   "source": [
    "# matches_m = matches_from_comp(M_GRAND_SLAMS)\n",
    "# for x in matches_m:\n",
    "#     print(len(x))\n",
    "\n",
    "# gs_matches_men = sum(matches_m,[])\n",
    "\n",
    "# with open('data/gs_matches_men.pkl', 'wb') as f:\n",
    "#     pickle.dump(gs_matches_men, f)"
   ]
  },
  {
   "cell_type": "code",
   "execution_count": 8,
   "metadata": {},
   "outputs": [
    {
     "name": "stdout",
     "output_type": "stream",
     "text": [
      "sr:season:95309\n",
      "appending 127 to matches\n",
      "sr:season:94021\n",
      "appending 127 to matches\n",
      "sr:season:102229\n",
      "appending 127 to matches\n",
      "sr:season:97747\n",
      "appending 127 to matches\n",
      "16\n",
      "127\n",
      "127\n",
      "127\n",
      "127\n"
     ]
    }
   ],
   "source": [
    "matches_w = matches_from_comp(W_GRAND_SLAMS)\n",
    "for x in matches_w:\n",
    "    print(len(x))\n",
    "\n",
    "gs_matches_women = sum(matches_w,[])\n",
    "\n",
    "with open('data/gs_matches_women.pkl', 'wb') as f:\n",
    "    pickle.dump(gs_matches_women, f)"
   ]
  }
 ],
 "metadata": {
  "kernelspec": {
   "display_name": "Python 3",
   "language": "python",
   "name": "python3"
  },
  "language_info": {
   "codemirror_mode": {
    "name": "ipython",
    "version": 3
   },
   "file_extension": ".py",
   "mimetype": "text/x-python",
   "name": "python",
   "nbconvert_exporter": "python",
   "pygments_lexer": "ipython3",
   "version": "3.11.6"
  },
  "orig_nbformat": 4
 },
 "nbformat": 4,
 "nbformat_minor": 2
}
