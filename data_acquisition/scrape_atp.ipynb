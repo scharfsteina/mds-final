{
 "cells": [
  {
   "cell_type": "code",
   "execution_count": 2,
   "metadata": {},
   "outputs": [],
   "source": [
    "from bs4 import BeautifulSoup\n",
    "import requests as rq\n",
    "from datetime import datetime, timedelta\n",
    "import pandas as pd"
   ]
  },
  {
   "cell_type": "code",
   "execution_count": 7,
   "metadata": {},
   "outputs": [
    {
     "name": "stdout",
     "output_type": "stream",
     "text": [
      "{'2023-06-26': '2023-06-26', '2023-05-22': '2023-05-22', '2024-01-01': '2024-01-07', '2023-08-21': '2023-08-22'}\n"
     ]
    }
   ],
   "source": [
    "def get_first_day_of_week(year, week_number):\n",
    "    # Find the first day of the week using ISO week date standard\n",
    "    # (Monday is the first day of the week, and week 1 is the week that contains the first Thursday of the year)\n",
    "    first_day = datetime.strptime(f'{year}-W{week_number}-1', \"%Y-W%W-%w\")\n",
    "    return first_day\n",
    "\n",
    "tourney_dates = ['2023-06-26','2023-05-22','2024-01-07','2023-08-22']\n",
    "\n",
    "tourney_date_dict = {}\n",
    "for curr_date in tourney_dates:  # Loop until the end of 2024\n",
    "    date = datetime.strptime(curr_date, '%Y-%m-%d').date()\n",
    "    week_number = date.isocalendar()[1]\n",
    "    \n",
    "    fdow = get_first_day_of_week(date.year, week_number).strftime('%Y-%m-%d')\n",
    "    tourney_date_dict[fdow] = curr_date\n",
    "\n",
    "print(tourney_date_dict)"
   ]
  },
  {
   "cell_type": "code",
   "execution_count": 9,
   "metadata": {},
   "outputs": [
    {
     "data": {
      "text/plain": [
       "{'2023-06-26': '2023-06-26',\n",
       " '2023-05-22': '2023-05-22',\n",
       " '2024-01-01': '2024-01-07',\n",
       " '2023-08-21': '2023-08-22'}"
      ]
     },
     "execution_count": 9,
     "metadata": {},
     "output_type": "execute_result"
    }
   ],
   "source": [
    "tourney_date_dict"
   ]
  },
  {
   "cell_type": "code",
   "execution_count": 10,
   "metadata": {},
   "outputs": [
    {
     "name": "stdout",
     "output_type": "stream",
     "text": [
      "2023-06-26 ATP rankings extracted\n",
      "2023-05-22 ATP rankings extracted\n",
      "2024-01-01 ATP rankings extracted\n",
      "2023-08-21 ATP rankings extracted\n"
     ]
    }
   ],
   "source": [
    "atp_ranks = []\n",
    "for week in list(tourney_date_dict.keys()):\n",
    "    url = \"https://www.atptour.com/en/rankings/singles?RankRange=0-5000&DateWeek=\"+week \n",
    "    page = rq.get(url)\n",
    "    content = page.content\n",
    "    soup = BeautifulSoup(content)\n",
    "    rows = soup.body.find('div', class_ = 'atp_rankings-all').find('table', class_ = 'mega-table desktop-table').find('tbody').findAll('tr')\n",
    "    player_ranks = {}\n",
    "    for row in rows:\n",
    "        try:\n",
    "            player = row.find('td', class_ = 'player bold heavy').find('li', class_ = 'name center').find('span').text\n",
    "            rank = row.find('td', class_ = 'rank bold heavy').text\n",
    "            player_ranks[player] = rank\n",
    "        except:\n",
    "            continue\n",
    "\n",
    "    week_ranks = pd.DataFrame(list(player_ranks.items()), columns = ['player','rank'])\n",
    "    week_ranks['week'] = tourney_date_dict[week]\n",
    "    print(week,\"ATP rankings extracted\")\n",
    "\n",
    "    atp_ranks.append(week_ranks)\n",
    "\n",
    "atp_ranks = pd.concat(atp_ranks)"
   ]
  },
  {
   "cell_type": "code",
   "execution_count": 12,
   "metadata": {},
   "outputs": [],
   "source": [
    "atp_ranks.to_csv(\"data/atp_ranks.csv\", index=False)"
   ]
  }
 ],
 "metadata": {
  "kernelspec": {
   "display_name": "Python 3",
   "language": "python",
   "name": "python3"
  },
  "language_info": {
   "codemirror_mode": {
    "name": "ipython",
    "version": 3
   },
   "file_extension": ".py",
   "mimetype": "text/x-python",
   "name": "python",
   "nbconvert_exporter": "python",
   "pygments_lexer": "ipython3",
   "version": "3.11.6"
  },
  "orig_nbformat": 4
 },
 "nbformat": 4,
 "nbformat_minor": 2
}
